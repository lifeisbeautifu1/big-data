{
  "nbformat": 4,
  "nbformat_minor": 0,
  "metadata": {
    "colab": {
      "provenance": [],
      "authorship_tag": "ABX9TyPBKYDHbaFrydtt3wK5Dyqg",
      "include_colab_link": true
    },
    "kernelspec": {
      "name": "python3",
      "display_name": "Python 3"
    },
    "language_info": {
      "name": "python"
    }
  },
  "cells": [
    {
      "cell_type": "markdown",
      "metadata": {
        "id": "view-in-github",
        "colab_type": "text"
      },
      "source": [
        "<a href=\"https://colab.research.google.com/github/lifeisbeautifu1/big-data/blob/main/6408%20%D0%9F%D0%BE%D0%BB%D1%82%D0%BE%D1%80%D0%B0%D0%B4%D0%BD%D0%B5%D0%B2%D0%90%D0%A1%20Introduction%20to%20Apache%20Spark.ipynb\" target=\"_parent\"><img src=\"https://colab.research.google.com/assets/colab-badge.svg\" alt=\"Open In Colab\"/></a>"
      ]
    },
    {
      "cell_type": "markdown",
      "source": [
        "# Installing Spark"
      ],
      "metadata": {
        "id": "_UabYt_Bq02b"
      }
    },
    {
      "cell_type": "code",
      "execution_count": 1,
      "metadata": {
        "colab": {
          "base_uri": "https://localhost:8080/"
        },
        "id": "BVMs9Sojoy-N",
        "outputId": "38cd5c41-9502-4d90-8401-e19d6199aeb7"
      },
      "outputs": [
        {
          "output_type": "stream",
          "name": "stdout",
          "text": [
            "Collecting pyspark==3.0.0\n",
            "  Downloading pyspark-3.0.0.tar.gz (204.7 MB)\n",
            "\u001b[2K     \u001b[90m━━━━━━━━━━━━━━━━━━━━━━━━━━━━━━━━━━━━━━━━\u001b[0m \u001b[32m204.7/204.7 MB\u001b[0m \u001b[31m2.4 MB/s\u001b[0m eta \u001b[36m0:00:00\u001b[0m\n",
            "\u001b[?25h  Preparing metadata (setup.py) ... \u001b[?25l\u001b[?25hdone\n",
            "Collecting py4j==0.10.9 (from pyspark==3.0.0)\n",
            "  Downloading py4j-0.10.9-py2.py3-none-any.whl (198 kB)\n",
            "\u001b[2K     \u001b[90m━━━━━━━━━━━━━━━━━━━━━━━━━━━━━━━━━━━━━━━━\u001b[0m \u001b[32m198.6/198.6 kB\u001b[0m \u001b[31m21.6 MB/s\u001b[0m eta \u001b[36m0:00:00\u001b[0m\n",
            "\u001b[?25hBuilding wheels for collected packages: pyspark\n",
            "  Building wheel for pyspark (setup.py) ... \u001b[?25l\u001b[?25hdone\n",
            "  Created wheel for pyspark: filename=pyspark-3.0.0-py2.py3-none-any.whl size=205044159 sha256=6384501bbc6ffd319db3ee98388b26ab5b770d5a803a1f345259e6a1da8c6b3f\n",
            "  Stored in directory: /root/.cache/pip/wheels/b1/bb/8b/ca24d3f756f2ed967225b0871898869db676eb5846df5adc56\n",
            "Successfully built pyspark\n",
            "Installing collected packages: py4j, pyspark\n",
            "  Attempting uninstall: py4j\n",
            "    Found existing installation: py4j 0.10.9.7\n",
            "    Uninstalling py4j-0.10.9.7:\n",
            "      Successfully uninstalled py4j-0.10.9.7\n",
            "Successfully installed py4j-0.10.9 pyspark-3.0.0\n"
          ]
        }
      ],
      "source": [
        "!pip3 install pyspark==3.0.0"
      ]
    },
    {
      "cell_type": "markdown",
      "source": [
        "# Downloading the datasets"
      ],
      "metadata": {
        "id": "DGQkyCCkq3X2"
      }
    },
    {
      "cell_type": "code",
      "source": [
        "import requests\n",
        "\n",
        "with open(\"stations.csv\", \"wb\") as f:\n",
        "    request = requests.get(\"https://git.ai.ssau.ru/tk/big_data/raw/branch/bachelor/data/stations.csv\")\n",
        "\n",
        "    print(\"Downloading stations.csv...\")\n",
        "\n",
        "    f.write(request.content)"
      ],
      "metadata": {
        "colab": {
          "base_uri": "https://localhost:8080/"
        },
        "id": "alMO7vKoyzko",
        "outputId": "ce6b8ee4-c792-4e52-ff8e-6d8bc576e5b1"
      },
      "execution_count": 2,
      "outputs": [
        {
          "output_type": "stream",
          "name": "stdout",
          "text": [
            "Downloading stations.csv...\n"
          ]
        }
      ]
    },
    {
      "cell_type": "code",
      "source": [
        "!ls"
      ],
      "metadata": {
        "colab": {
          "base_uri": "https://localhost:8080/"
        },
        "id": "z8J_a6kozFUz",
        "outputId": "b757b215-6e3f-4f37-eba1-96025bcf6b1e"
      },
      "execution_count": 3,
      "outputs": [
        {
          "output_type": "stream",
          "name": "stdout",
          "text": [
            "sample_data  stations.csv\n"
          ]
        }
      ]
    },
    {
      "cell_type": "code",
      "source": [
        "with open(\"trips.csv\", \"wb\") as f:\n",
        "    request = requests.get(\"https://git.ai.ssau.ru/tk/big_data/raw/branch/bachelor/data/trips.csv\")\n",
        "\n",
        "    print(\"Downloading trips.csv...\")\n",
        "\n",
        "    f.write(request.content)"
      ],
      "metadata": {
        "colab": {
          "base_uri": "https://localhost:8080/"
        },
        "id": "tnRwYMtEpE5C",
        "outputId": "d67e0065-4440-4e43-93e6-1504928099ea"
      },
      "execution_count": 4,
      "outputs": [
        {
          "output_type": "stream",
          "name": "stdout",
          "text": [
            "Downloading trips.csv...\n"
          ]
        }
      ]
    },
    {
      "cell_type": "markdown",
      "source": [
        "# Hodl..."
      ],
      "metadata": {
        "id": "oHuZi5pC0eDA"
      }
    },
    {
      "cell_type": "code",
      "source": [
        "!ls"
      ],
      "metadata": {
        "colab": {
          "base_uri": "https://localhost:8080/"
        },
        "id": "RuXYvjPRrHbd",
        "outputId": "061a0b31-68b9-430b-d719-d1fa28f8f853"
      },
      "execution_count": 5,
      "outputs": [
        {
          "output_type": "stream",
          "name": "stdout",
          "text": [
            "sample_data  stations.csv  trips.csv\n"
          ]
        }
      ]
    },
    {
      "cell_type": "markdown",
      "source": [
        "# Initialization"
      ],
      "metadata": {
        "id": "i5YkKV0strJI"
      }
    },
    {
      "cell_type": "code",
      "source": [
        "from pyspark import SparkContext, SparkConf\n",
        "from typing import NamedTuple\n",
        "from datetime import datetime"
      ],
      "metadata": {
        "id": "v-ussXKurOe1"
      },
      "execution_count": 6,
      "outputs": []
    },
    {
      "cell_type": "code",
      "source": [
        "conf = SparkConf().setAppName(\"Introduction to Apache Spark\")\n",
        "\n",
        "sc = SparkContext(conf=conf)"
      ],
      "metadata": {
        "id": "J4fIP8F2smlA"
      },
      "execution_count": 7,
      "outputs": []
    },
    {
      "cell_type": "code",
      "source": [
        "tripData = sc.textFile(\"/content/trips.csv\")\n",
        "# запомним заголовок, чтобы затем его исключить из данных\n",
        "tripsHeader = tripData.first()\n",
        "trips = tripData.filter(lambda row: row != tripsHeader)\n",
        "\n",
        "# у первой строчки нету start_date\n",
        "firstRow = trips.first()\n",
        "trips = trips.filter(lambda row: row != firstRow)\n",
        "\n",
        "# у второй строчки нету duration\n",
        "secondRow = trips.first()\n",
        "trips = trips.filter(lambda row: row != secondRow)\n",
        "\n",
        "stationData = sc.textFile(\"/content/stations.csv\")\n",
        "stationsHeader = stationData.first()\n",
        "stations = stationData.filter(lambda row: row != stationsHeader).map(lambda row: row.split(\",\"))"
      ],
      "metadata": {
        "id": "vms03tcexGt0"
      },
      "execution_count": 8,
      "outputs": []
    },
    {
      "cell_type": "code",
      "source": [
        "stationData.take(5)"
      ],
      "metadata": {
        "colab": {
          "base_uri": "https://localhost:8080/"
        },
        "id": "D8KBTHx3zY1R",
        "outputId": "d06ce8d6-6871-4f6e-cd10-b59f116b13d7"
      },
      "execution_count": 9,
      "outputs": [
        {
          "output_type": "execute_result",
          "data": {
            "text/plain": [
              "['id,name,lat,long,dock_count,city,installation_date',\n",
              " '2,San Jose Diridon Caltrain Station,37.329732,-121.90178200000001,27,San Jose,8/6/2013',\n",
              " '3,San Jose Civic Center,37.330698,-121.888979,15,San Jose,8/5/2013',\n",
              " '4,Santa Clara at Almaden,37.333988,-121.894902,11,San Jose,8/6/2013',\n",
              " '5,Adobe on Almaden,37.331415,-121.8932,19,San Jose,8/5/2013']"
            ]
          },
          "metadata": {},
          "execution_count": 9
        }
      ]
    },
    {
      "cell_type": "code",
      "source": [
        "stations.take(5)"
      ],
      "metadata": {
        "colab": {
          "base_uri": "https://localhost:8080/"
        },
        "id": "ej7YMsY2cJra",
        "outputId": "4990974d-62e8-42c4-b2ba-f4b68c53dcdd"
      },
      "execution_count": 10,
      "outputs": [
        {
          "output_type": "execute_result",
          "data": {
            "text/plain": [
              "[['2',\n",
              "  'San Jose Diridon Caltrain Station',\n",
              "  '37.329732',\n",
              "  '-121.90178200000001',\n",
              "  '27',\n",
              "  'San Jose',\n",
              "  '8/6/2013'],\n",
              " ['3',\n",
              "  'San Jose Civic Center',\n",
              "  '37.330698',\n",
              "  '-121.888979',\n",
              "  '15',\n",
              "  'San Jose',\n",
              "  '8/5/2013'],\n",
              " ['4',\n",
              "  'Santa Clara at Almaden',\n",
              "  '37.333988',\n",
              "  '-121.894902',\n",
              "  '11',\n",
              "  'San Jose',\n",
              "  '8/6/2013'],\n",
              " ['5',\n",
              "  'Adobe on Almaden',\n",
              "  '37.331415',\n",
              "  '-121.8932',\n",
              "  '19',\n",
              "  'San Jose',\n",
              "  '8/5/2013'],\n",
              " ['6',\n",
              "  'San Pedro Square',\n",
              "  '37.336721000000004',\n",
              "  '-121.894074',\n",
              "  '15',\n",
              "  'San Jose',\n",
              "  '8/7/2013']]"
            ]
          },
          "metadata": {},
          "execution_count": 10
        }
      ]
    },
    {
      "cell_type": "code",
      "source": [
        "tripData.take(5)"
      ],
      "metadata": {
        "colab": {
          "base_uri": "https://localhost:8080/"
        },
        "id": "N05Xc--h0zFf",
        "outputId": "85bfbc78-2cb4-4d5c-bef2-237e6171637b"
      },
      "execution_count": 11,
      "outputs": [
        {
          "output_type": "execute_result",
          "data": {
            "text/plain": [
              "['id,duration,start_date,start_station_name,start_station_id,end_date,end_station_name,end_station_id,bike_id,subscription_type,zip_code',\n",
              " '4576,63,,South Van Ness at Market,66,8/29/2013 14:14,South Van Ness at Market,66,520,Subscriber,94127',\n",
              " '4607,,8/29/2013 14:42,San Jose City Hall,10,8/29/2013 14:43,San Jose City Hall,10,661,Subscriber,95138',\n",
              " '4130,71,8/29/2013 10:16,Mountain View City Hall,27,8/29/2013 10:17,Mountain View City Hall,27,48,Subscriber,97214',\n",
              " '4251,77,8/29/2013 11:29,San Jose City Hall,10,8/29/2013 11:30,San Jose City Hall,10,26,Subscriber,95060']"
            ]
          },
          "metadata": {},
          "execution_count": 11
        }
      ]
    },
    {
      "cell_type": "code",
      "source": [
        "# Я отфильтровал первые 2 строчки в csv файле, потому что у них\n",
        "# не определены start_date и duration\n",
        "# и из-за этого у меня падает инициализация\n",
        "trips.take(5)"
      ],
      "metadata": {
        "colab": {
          "base_uri": "https://localhost:8080/"
        },
        "id": "gFljbfJn3M4j",
        "outputId": "f5cc45ce-55c1-4f5f-aa89-9648b2491665"
      },
      "execution_count": 12,
      "outputs": [
        {
          "output_type": "execute_result",
          "data": {
            "text/plain": [
              "['4130,71,8/29/2013 10:16,Mountain View City Hall,27,8/29/2013 10:17,Mountain View City Hall,27,48,Subscriber,97214',\n",
              " '4251,77,8/29/2013 11:29,San Jose City Hall,10,8/29/2013 11:30,San Jose City Hall,10,26,Subscriber,95060',\n",
              " '4299,83,8/29/2013 12:02,South Van Ness at Market,66,8/29/2013 12:04,Market at 10th,67,319,Subscriber,94103',\n",
              " '4927,103,8/29/2013 18:54,Golden Gate at Polk,59,8/29/2013 18:56,Golden Gate at Polk,59,527,Subscriber,94109',\n",
              " '4500,109,8/29/2013 13:25,Santa Clara at Almaden,4,8/29/2013 13:27,Adobe on Almaden,5,679,Subscriber,95112']"
            ]
          },
          "metadata": {},
          "execution_count": 12
        }
      ]
    },
    {
      "cell_type": "code",
      "source": [
        "trips = trips.map(lambda row: row.split(\",\"))"
      ],
      "metadata": {
        "id": "Tl7ynaEG3yHY"
      },
      "execution_count": 13,
      "outputs": []
    },
    {
      "cell_type": "code",
      "source": [
        "trips.take(5)"
      ],
      "metadata": {
        "colab": {
          "base_uri": "https://localhost:8080/"
        },
        "id": "brVOWRw_3c_l",
        "outputId": "17a0b092-a1da-4118-dc44-cd0cf52200ae"
      },
      "execution_count": 14,
      "outputs": [
        {
          "output_type": "execute_result",
          "data": {
            "text/plain": [
              "[['4130',\n",
              "  '71',\n",
              "  '8/29/2013 10:16',\n",
              "  'Mountain View City Hall',\n",
              "  '27',\n",
              "  '8/29/2013 10:17',\n",
              "  'Mountain View City Hall',\n",
              "  '27',\n",
              "  '48',\n",
              "  'Subscriber',\n",
              "  '97214'],\n",
              " ['4251',\n",
              "  '77',\n",
              "  '8/29/2013 11:29',\n",
              "  'San Jose City Hall',\n",
              "  '10',\n",
              "  '8/29/2013 11:30',\n",
              "  'San Jose City Hall',\n",
              "  '10',\n",
              "  '26',\n",
              "  'Subscriber',\n",
              "  '95060'],\n",
              " ['4299',\n",
              "  '83',\n",
              "  '8/29/2013 12:02',\n",
              "  'South Van Ness at Market',\n",
              "  '66',\n",
              "  '8/29/2013 12:04',\n",
              "  'Market at 10th',\n",
              "  '67',\n",
              "  '319',\n",
              "  'Subscriber',\n",
              "  '94103'],\n",
              " ['4927',\n",
              "  '103',\n",
              "  '8/29/2013 18:54',\n",
              "  'Golden Gate at Polk',\n",
              "  '59',\n",
              "  '8/29/2013 18:56',\n",
              "  'Golden Gate at Polk',\n",
              "  '59',\n",
              "  '527',\n",
              "  'Subscriber',\n",
              "  '94109'],\n",
              " ['4500',\n",
              "  '109',\n",
              "  '8/29/2013 13:25',\n",
              "  'Santa Clara at Almaden',\n",
              "  '4',\n",
              "  '8/29/2013 13:27',\n",
              "  'Adobe on Almaden',\n",
              "  '5',\n",
              "  '679',\n",
              "  'Subscriber',\n",
              "  '95112']]"
            ]
          },
          "metadata": {},
          "execution_count": 14
        }
      ]
    },
    {
      "cell_type": "code",
      "source": [
        "def initStation(stations):\n",
        "    class Station(NamedTuple):\n",
        "        station_id: int\n",
        "        name: str\n",
        "        lat: float\n",
        "        long: float\n",
        "        dockcount: int\n",
        "        landmark: str\n",
        "        installation: str\n",
        "\n",
        "    for station in stations:\n",
        "        yield Station(\n",
        "            station_id = int(station[0]),\n",
        "            name = station[1],\n",
        "            lat = float(station[2]),\n",
        "            long = float(station[3]),\n",
        "            dockcount = int(station[4]),\n",
        "            landmark = station[5],\n",
        "            installation = datetime.strptime(station[6], '%m/%d/%Y')\n",
        "        )\n",
        "\n",
        "def initTrip(trips):\n",
        "    class Trip(NamedTuple):\n",
        "        trip_id: int\n",
        "        duration: int\n",
        "        start_date: datetime\n",
        "        start_station_name: str\n",
        "        start_station_id: int\n",
        "        end_date: datetime\n",
        "        end_station_name: str\n",
        "        end_station_id: int\n",
        "        bike_id: int\n",
        "        subscription_type: str\n",
        "        zip_code: str\n",
        "\n",
        "    for trip in trips:\n",
        "        yield Trip(\n",
        "             trip_id = int(trip[0]),\n",
        "             duration = int(trip[1]),\n",
        "             start_date = datetime.strptime(trip[2], '%m/%d/%Y %H:%M'),\n",
        "             start_station_name = trip[3],\n",
        "             start_station_id = int(trip[4]),\n",
        "             end_date = datetime.strptime(trip[5], '%m/%d/%Y %H:%M'),\n",
        "             end_station_name = trip[6],\n",
        "             end_station_id = trip[7],\n",
        "             bike_id = int(trip[8]),\n",
        "             subscription_type = trip[9],\n",
        "             zip_code = trip[10]\n",
        "        )"
      ],
      "metadata": {
        "id": "GPuQHMa9tasW"
      },
      "execution_count": 15,
      "outputs": []
    },
    {
      "cell_type": "code",
      "source": [
        "stationsInternal = stations.mapPartitions(initStation)\n",
        "tripsInternal = trips.mapPartitions(initTrip)"
      ],
      "metadata": {
        "id": "spVqTX2JwYaR"
      },
      "execution_count": 16,
      "outputs": []
    },
    {
      "cell_type": "code",
      "source": [
        "stationsInternal.first()"
      ],
      "metadata": {
        "colab": {
          "base_uri": "https://localhost:8080/"
        },
        "id": "1AVy2jnht7g7",
        "outputId": "e1256572-d386-46e4-a5dd-398c8c641e09"
      },
      "execution_count": 17,
      "outputs": [
        {
          "output_type": "execute_result",
          "data": {
            "text/plain": [
              "Station(station_id=2, name='San Jose Diridon Caltrain Station', lat=37.329732, long=-121.90178200000001, dockcount=27, landmark='San Jose', installation=datetime.datetime(2013, 8, 6, 0, 0))"
            ]
          },
          "metadata": {},
          "execution_count": 17
        }
      ]
    },
    {
      "cell_type": "code",
      "source": [
        "tripsInternal.first()"
      ],
      "metadata": {
        "colab": {
          "base_uri": "https://localhost:8080/"
        },
        "id": "JGrrUJN805CM",
        "outputId": "1901d4a5-9e7d-4ad8-dbcc-8e5b4cc50102"
      },
      "execution_count": 18,
      "outputs": [
        {
          "output_type": "execute_result",
          "data": {
            "text/plain": [
              "Trip(trip_id=4130, duration=71, start_date=datetime.datetime(2013, 8, 29, 10, 16), start_station_name='Mountain View City Hall', start_station_id=27, end_date=datetime.datetime(2013, 8, 29, 10, 17), end_station_name='Mountain View City Hall', end_station_id='27', bike_id=48, subscription_type='Subscriber', zip_code='97214')"
            ]
          },
          "metadata": {},
          "execution_count": 18
        }
      ]
    },
    {
      "cell_type": "markdown",
      "source": [
        "# 1. Найти велосипед с максимальным временем пробега."
      ],
      "metadata": {
        "id": "mu7ZRvJc59s4"
      }
    },
    {
      "cell_type": "code",
      "source": [
        "bike_with_longest_duration = tripsInternal.keyBy(lambda trip: trip.bike_id) \\\n",
        ".mapValues(lambda trip: trip.duration) \\\n",
        ".reduceByKey(lambda firstDuration, secondDuration: firstDuration + secondDuration) \\\n",
        ".sortBy(lambda trip: trip[1], ascending=False) \\\n",
        ".first()\n",
        "\n",
        "print(\"Bike id is \" + str(bike_with_longest_duration[0]) + ' and maximum travel time is ' + str(bike_with_longest_duration[1]))"
      ],
      "metadata": {
        "colab": {
          "base_uri": "https://localhost:8080/"
        },
        "id": "VupbI7yS6gJU",
        "outputId": "20750823-64fe-43ce-ca73-78106e26cfbe"
      },
      "execution_count": 66,
      "outputs": [
        {
          "output_type": "stream",
          "name": "stdout",
          "text": [
            "Bike id is 535 and maximum travel time is 18611693\n"
          ]
        }
      ]
    },
    {
      "cell_type": "markdown",
      "source": [
        "# 2. Найти наибольшее геодезическое расстояние между станциями.\n",
        "\n"
      ],
      "metadata": {
        "id": "BEVWmmXZ8pv_"
      }
    },
    {
      "cell_type": "code",
      "source": [
        "result = stationsInternal.cartesian(stationsInternal) \\\n",
        ".map(lambda pair: (pair[0].name, pair[1].name, (pair[0].lat ** 2 - pair[1].lat ** 2) + (pair[0].long ** 2 - pair[1].long ** 2) ** 0.5)) \\\n",
        ".map(lambda station: (station[0], station[1], station[2].real if isinstance(station[2], complex) else station[2])) \\\n",
        ".sortBy(lambda station: station[2], ascending=False) \\\n",
        ".first()\n",
        "\n",
        "print(f\"From station {result[0]} to station {result[1]} the distance is: {result[2]}\")"
      ],
      "metadata": {
        "id": "s9CYYbw38mYu",
        "colab": {
          "base_uri": "https://localhost:8080/"
        },
        "outputId": "163a3fbf-cd24-4ec9-f1aa-6493fb558033"
      },
      "execution_count": 82,
      "outputs": [
        {
          "output_type": "stream",
          "name": "stdout",
          "text": [
            "From station Embarcadero at Sansome to station San Salvador at 1st the distance is: 46.90200872492147\n"
          ]
        }
      ]
    },
    {
      "cell_type": "markdown",
      "source": [
        "# 3. Найти путь велосипеда с максимальным временем пробега через станции."
      ],
      "metadata": {
        "id": "zqk6mdxpfgks"
      }
    },
    {
      "cell_type": "code",
      "source": [
        "path_with_longest_duration = tripsInternal.sortBy(lambda trip: trip.duration, ascending=False) \\\n",
        ".map(lambda trip: (trip.start_station_name, trip.end_station_name)) \\\n",
        ".first()\n",
        "\n",
        "print(path_with_longest_duration)"
      ],
      "metadata": {
        "colab": {
          "base_uri": "https://localhost:8080/"
        },
        "id": "qwip8DP9fm9-",
        "outputId": "eac661c1-ea4d-4696-d081-daa2ecfe2a0d"
      },
      "execution_count": 63,
      "outputs": [
        {
          "output_type": "stream",
          "name": "stdout",
          "text": [
            "('South Van Ness at Market', '2nd at Folsom')\n"
          ]
        }
      ]
    },
    {
      "cell_type": "code",
      "source": [
        "path_with_longest_duration = tripsInternal.sortBy(lambda trip: trip.duration, ascending=False) \\\n",
        ".first()\n",
        "\n",
        "print(path_with_longest_duration)"
      ],
      "metadata": {
        "colab": {
          "base_uri": "https://localhost:8080/"
        },
        "id": "tu_gveRVrb-N",
        "outputId": "20d86bb3-7522-4f8d-e544-87c9fee4ed35"
      },
      "execution_count": 64,
      "outputs": [
        {
          "output_type": "stream",
          "name": "stdout",
          "text": [
            "Trip(trip_id=568474, duration=17270400, start_date=datetime.datetime(2014, 12, 6, 21, 59), start_station_name='South Van Ness at Market', start_station_id=66, end_date=datetime.datetime(2015, 6, 24, 20, 18), end_station_name='2nd at Folsom', end_station_id='62', bike_id=535, subscription_type='Customer', zip_code='95531')\n"
          ]
        }
      ]
    },
    {
      "cell_type": "markdown",
      "source": [
        "# 4. Найти количество велосипедов в системе."
      ],
      "metadata": {
        "id": "wo0vc5_Pfq0I"
      }
    },
    {
      "cell_type": "code",
      "source": [
        "bikes_count = tripsInternal.map(lambda trip: trip.bike_id) \\\n",
        ".distinct() \\\n",
        ".count()\n",
        "\n",
        "print(bikes_count)"
      ],
      "metadata": {
        "colab": {
          "base_uri": "https://localhost:8080/"
        },
        "id": "p6NheTXPfrf0",
        "outputId": "7282076f-d593-4045-ad9d-6c4bdb421e5c"
      },
      "execution_count": 51,
      "outputs": [
        {
          "output_type": "stream",
          "name": "stdout",
          "text": [
            "700\n"
          ]
        }
      ]
    },
    {
      "cell_type": "markdown",
      "source": [
        "# 5. Найти пользователей потративших на поездки более 3 часов."
      ],
      "metadata": {
        "id": "R9Jxn33BfusD"
      }
    },
    {
      "cell_type": "code",
      "source": [
        "# В датасете нету как такого идентификатора пользователя\n",
        "# поэтому я вывел их почтовой индекс, так как bike_id общий\n",
        "subscribers = tripsInternal.keyBy(lambda trip: trip.zip_code) \\\n",
        ".mapValues(lambda trip: trip.duration) \\\n",
        ".filter(lambda trip: trip[1] > 3 * 60 * 60 and trip[0] != 'nil' and trip[0] != \"\") \\\n",
        ".distinct() \\\n",
        ".take(10)\n",
        "\n",
        "for zip_code_of_subscriber in subscribers:\n",
        "  print(zip_code_of_subscriber)"
      ],
      "metadata": {
        "colab": {
          "base_uri": "https://localhost:8080/"
        },
        "id": "WQ3HYRo7fvU7",
        "outputId": "d59e2661-82fe-4f2e-a3e1-a11b642a68c6"
      },
      "execution_count": 52,
      "outputs": [
        {
          "output_type": "stream",
          "name": "stdout",
          "text": [
            "('72150', 18192)\n",
            "('58553', 21612)\n",
            "('94133', 10805)\n",
            "('93726', 12459)\n",
            "('75225', 13809)\n",
            "('94102', 18198)\n",
            "('53714', 18219)\n",
            "('53714', 18241)\n",
            "('95618', 23694)\n",
            "('94510', 33088)\n"
          ]
        }
      ]
    },
    {
      "cell_type": "code",
      "source": [],
      "metadata": {
        "id": "72cU5ljxiDFs"
      },
      "execution_count": null,
      "outputs": []
    }
  ]
}