{
  "nbformat": 4,
  "nbformat_minor": 0,
  "metadata": {
    "colab": {
      "provenance": [],
      "include_colab_link": true
    },
    "kernelspec": {
      "name": "python3",
      "display_name": "Python 3"
    }
  },
  "cells": [
    {
      "cell_type": "markdown",
      "metadata": {
        "id": "view-in-github",
        "colab_type": "text"
      },
      "source": [
        "<a href=\"https://colab.research.google.com/github/lifeisbeautifu1/big-data/blob/main/6408%20%D0%9F%D0%BE%D0%BB%D1%82%D0%BE%D1%80%D0%B0%D0%B4%D0%BD%D0%B5%D0%B2%D0%90%D0%A1%20%D0%92%D0%B2%D0%B5%D0%B4%D0%B5%D0%BD%D0%B8%D0%B5%20%D0%B2%20Mapreduce.ipynb\" target=\"_parent\"><img src=\"https://colab.research.google.com/assets/colab-badge.svg\" alt=\"Open In Colab\"/></a>"
      ]
    },
    {
      "cell_type": "markdown",
      "metadata": {
        "id": "82OvPKEiEqjc"
      },
      "source": [
        "# Введение в MapReduce модель на Python\n"
      ]
    },
    {
      "cell_type": "code",
      "metadata": {
        "id": "JQ2cvXLjICmI"
      },
      "source": [
        "from typing import NamedTuple # requires python 3.6+\n",
        "from typing import Tuple\n",
        "from typing import Iterator"
      ],
      "execution_count": 1,
      "outputs": []
    },
    {
      "cell_type": "code",
      "metadata": {
        "id": "yjPHumVwEyEg"
      },
      "source": [
        "def MAP(_, row: NamedTuple):\n",
        "  if (row.gender == 'female'):\n",
        "    yield (row.age, row)\n",
        "\n",
        "def REDUCE(age:str, rows: Iterator[NamedTuple]):\n",
        "  sum = 0\n",
        "  count = 0\n",
        "  for row in rows:\n",
        "    sum += row.social_contacts\n",
        "    count += 1\n",
        "  if (count > 0):\n",
        "    yield (age, sum / count)\n",
        "  else:\n",
        "    yield (age, 0)"
      ],
      "execution_count": 2,
      "outputs": []
    },
    {
      "cell_type": "markdown",
      "metadata": {
        "id": "vBKMgpG_ilaZ"
      },
      "source": [
        "Модель элемента данных"
      ]
    },
    {
      "cell_type": "code",
      "metadata": {
        "id": "Rv-XIjhTJPx3"
      },
      "source": [
        "class User(NamedTuple):\n",
        "  id: int\n",
        "  age: str\n",
        "  social_contacts: int\n",
        "  gender: str"
      ],
      "execution_count": 3,
      "outputs": []
    },
    {
      "cell_type": "code",
      "metadata": {
        "id": "5KV0Ze2vQgu5"
      },
      "source": [
        "input_collection = [\n",
        "    User(id=0, age=55, gender='male', social_contacts=20),\n",
        "    User(id=1, age=25, gender='female', social_contacts=240),\n",
        "    User(id=2, age=25, gender='female', social_contacts=500),\n",
        "    User(id=3, age=33, gender='female', social_contacts=800)\n",
        "]"
      ],
      "execution_count": 4,
      "outputs": []
    },
    {
      "cell_type": "markdown",
      "metadata": {
        "id": "YFeqzyZxZIFZ"
      },
      "source": [
        "Функция RECORDREADER моделирует чтение элементов с диска или по сети."
      ]
    },
    {
      "cell_type": "code",
      "metadata": {
        "id": "S5HR4E_GQoMJ"
      },
      "source": [
        "def RECORDREADER():\n",
        "  return [(u.id, u) for u in input_collection]"
      ],
      "execution_count": 5,
      "outputs": []
    },
    {
      "cell_type": "code",
      "metadata": {
        "id": "NeEoWla-ROUy",
        "colab": {
          "base_uri": "https://localhost:8080/"
        },
        "outputId": "0095ded7-4c10-48bd-b888-34bc5c55d628"
      },
      "source": [
        "list(RECORDREADER())"
      ],
      "execution_count": 6,
      "outputs": [
        {
          "output_type": "execute_result",
          "data": {
            "text/plain": [
              "[(0, User(id=0, age=55, social_contacts=20, gender='male')),\n",
              " (1, User(id=1, age=25, social_contacts=240, gender='female')),\n",
              " (2, User(id=2, age=25, social_contacts=500, gender='female')),\n",
              " (3, User(id=3, age=33, social_contacts=800, gender='female'))]"
            ]
          },
          "metadata": {},
          "execution_count": 6
        }
      ]
    },
    {
      "cell_type": "code",
      "metadata": {
        "id": "YB8orgPSZs8M"
      },
      "source": [
        "def flatten(nested_iterable):\n",
        "  for iterable in nested_iterable:\n",
        "    for element in iterable:\n",
        "      yield element"
      ],
      "execution_count": 7,
      "outputs": []
    },
    {
      "cell_type": "code",
      "metadata": {
        "id": "74oyvDLaRmd5",
        "colab": {
          "base_uri": "https://localhost:8080/"
        },
        "outputId": "387a9f1d-6c57-4329-e783-feacaff4699d"
      },
      "source": [
        "map_output = flatten(map(lambda x: MAP(*x), RECORDREADER()))\n",
        "map_output = list(map_output) # materialize\n",
        "map_output"
      ],
      "execution_count": 13,
      "outputs": [
        {
          "output_type": "execute_result",
          "data": {
            "text/plain": [
              "[(25, User(id=1, age=25, social_contacts=240, gender='female')),\n",
              " (25, User(id=2, age=25, social_contacts=500, gender='female')),\n",
              " (33, User(id=3, age=33, social_contacts=800, gender='female'))]"
            ]
          },
          "metadata": {},
          "execution_count": 13
        }
      ]
    },
    {
      "cell_type": "code",
      "metadata": {
        "id": "8ncYDJ3-VzDn"
      },
      "source": [
        "def groupbykey(iterable):\n",
        "  t = {}\n",
        "  for (k2, v2) in iterable:\n",
        "    t[k2] = t.get(k2, []) + [v2]\n",
        "  return t.items()"
      ],
      "execution_count": 14,
      "outputs": []
    },
    {
      "cell_type": "code",
      "metadata": {
        "id": "cKzY_6COWOA2",
        "colab": {
          "base_uri": "https://localhost:8080/"
        },
        "outputId": "fb5799ed-8fc6-4fb4-f46e-e28bcd0a6583"
      },
      "source": [
        "shuffle_output = groupbykey(map_output)\n",
        "shuffle_output = list(shuffle_output)\n",
        "shuffle_output"
      ],
      "execution_count": 15,
      "outputs": [
        {
          "output_type": "execute_result",
          "data": {
            "text/plain": [
              "[(25,\n",
              "  [User(id=1, age=25, social_contacts=240, gender='female'),\n",
              "   User(id=2, age=25, social_contacts=500, gender='female')]),\n",
              " (33, [User(id=3, age=33, social_contacts=800, gender='female')])]"
            ]
          },
          "metadata": {},
          "execution_count": 15
        }
      ]
    },
    {
      "cell_type": "code",
      "metadata": {
        "id": "NlA7lkDDYL0t",
        "colab": {
          "base_uri": "https://localhost:8080/"
        },
        "outputId": "b50333ac-9f13-4574-a2a9-11125bf55631"
      },
      "source": [
        "reduce_output = flatten(map(lambda x: REDUCE(*x), shuffle_output))\n",
        "reduce_output = list(reduce_output)\n",
        "reduce_output"
      ],
      "execution_count": 16,
      "outputs": [
        {
          "output_type": "execute_result",
          "data": {
            "text/plain": [
              "[(25, 370.0), (33, 800.0)]"
            ]
          },
          "metadata": {},
          "execution_count": 16
        }
      ]
    },
    {
      "cell_type": "markdown",
      "metadata": {
        "id": "xf6qhHEtd6bI"
      },
      "source": [
        "Все действия одним конвейером!"
      ]
    },
    {
      "cell_type": "code",
      "metadata": {
        "id": "dZaQGYxCdpw5",
        "colab": {
          "base_uri": "https://localhost:8080/"
        },
        "outputId": "a55c5946-52c5-4e43-d6c3-15c2207d6261"
      },
      "source": [
        "list(flatten(map(lambda x: REDUCE(*x), groupbykey(flatten(map(lambda x: MAP(*x), RECORDREADER()))))))"
      ],
      "execution_count": 17,
      "outputs": [
        {
          "output_type": "execute_result",
          "data": {
            "text/plain": [
              "[(25, 370.0), (33, 800.0)]"
            ]
          },
          "metadata": {},
          "execution_count": 17
        }
      ]
    },
    {
      "cell_type": "markdown",
      "metadata": {
        "id": "Vq3EWRIpwSiJ"
      },
      "source": [
        "# **MapReduce**\n",
        "Выделим общую для всех пользователей часть системы в отдельную функцию высшего порядка. Это наиболее простая модель MapReduce, без учёта распределённого хранения данных.\n",
        "\n",
        "Пользователь для решения своей задачи реализует RECORDREADER, MAP, REDUCE."
      ]
    },
    {
      "cell_type": "code",
      "metadata": {
        "id": "V1PZeQMwwVjc"
      },
      "source": [
        "def flatten(nested_iterable):\n",
        "  for iterable in nested_iterable:\n",
        "    for element in iterable:\n",
        "      yield element\n",
        "\n",
        "def groupbykey(iterable):\n",
        "  t = {}\n",
        "  for (k2, v2) in iterable:\n",
        "    t[k2] = t.get(k2, []) + [v2]\n",
        "  return t.items()\n",
        "\n",
        "def MapReduce(RECORDREADER, MAP, REDUCE):\n",
        "  return flatten(map(lambda x: REDUCE(*x), groupbykey(flatten(map(lambda x: MAP(*x), RECORDREADER())))))"
      ],
      "execution_count": 18,
      "outputs": []
    },
    {
      "cell_type": "markdown",
      "metadata": {
        "id": "iFIVrimep678"
      },
      "source": [
        "## Спецификация MapReduce\n",
        "\n",
        "\n",
        "\n",
        "```\n",
        "f (k1, v1) -> (k2,v2)*\n",
        "g (k2, v2*) -> (k3,v3)*\n",
        "\n",
        "mapreduce ((k1,v1)*) -> (k3,v3)*\n",
        "groupby ((k2,v2)*) -> (k2,v2*)*\n",
        "flatten (e2**) -> e2*\n",
        "\n",
        "mapreduce .map(f).flatten.groupby(k2).map(g).flatten\n",
        "```\n",
        "\n",
        "\n"
      ]
    },
    {
      "cell_type": "markdown",
      "metadata": {
        "id": "QtTFyqke3KGe"
      },
      "source": [
        "# Примеры"
      ]
    },
    {
      "cell_type": "markdown",
      "metadata": {
        "id": "BNhh5763w5Vn"
      },
      "source": [
        "## SQL"
      ]
    },
    {
      "cell_type": "code",
      "metadata": {
        "id": "QkyurnvGxBGk",
        "colab": {
          "base_uri": "https://localhost:8080/"
        },
        "outputId": "32711ff4-cbf8-4d37-c01e-15c4c328cc5e"
      },
      "source": [
        "from typing import NamedTuple # requires python 3.6+\n",
        "from typing import Iterator\n",
        "\n",
        "class User(NamedTuple):\n",
        "  id: int\n",
        "  age: str\n",
        "  social_contacts: int\n",
        "  gender: str\n",
        "\n",
        "input_collection = [\n",
        "    User(id=0, age=55, gender='male', social_contacts=20),\n",
        "    User(id=1, age=25, gender='female', social_contacts=240),\n",
        "    User(id=2, age=25, gender='female', social_contacts=500),\n",
        "    User(id=3, age=33, gender='female', social_contacts=800)\n",
        "]\n",
        "\n",
        "def MAP(_, row: NamedTuple):\n",
        "  if (row.gender == 'female'):\n",
        "    yield (row.age, row)\n",
        "\n",
        "def REDUCE(age: str, rows: Iterator[NamedTuple]):\n",
        "  sum = 0\n",
        "  count = 0\n",
        "  for row in rows:\n",
        "    sum += row.social_contacts\n",
        "    count += 1\n",
        "  if (count > 0):\n",
        "    yield (age, sum/count)\n",
        "  else:\n",
        "    yield (age, 0)\n",
        "\n",
        "def RECORDREADER():\n",
        "  return [(u.id, u) for u in input_collection]\n",
        "\n",
        "output = MapReduce(RECORDREADER, MAP, REDUCE)\n",
        "output = list(output)\n",
        "output"
      ],
      "execution_count": 19,
      "outputs": [
        {
          "output_type": "execute_result",
          "data": {
            "text/plain": [
              "[(25, 370.0), (33, 800.0)]"
            ]
          },
          "metadata": {},
          "execution_count": 19
        }
      ]
    },
    {
      "cell_type": "markdown",
      "metadata": {
        "id": "kNKYIeerx0nY"
      },
      "source": [
        "## Matrix-Vector multiplication"
      ]
    },
    {
      "cell_type": "code",
      "metadata": {
        "id": "rwcntRcCyi1V",
        "colab": {
          "base_uri": "https://localhost:8080/"
        },
        "outputId": "15f0d219-e725-405f-f1d6-e3dd36100d19"
      },
      "source": [
        "from typing import Iterator\n",
        "import numpy as np\n",
        "\n",
        "mat = np.ones((5, 4))\n",
        "vec = np.random.rand(4) # in-memory vector in all map tasks\n",
        "\n",
        "def MAP(coordinates: Tuple[int, int], value: int):\n",
        "  i, j = coordinates\n",
        "  yield (i, value * vec[j])\n",
        "\n",
        "def REDUCE(i: int, products: Iterator[NamedTuple]):\n",
        "  sum = 0\n",
        "  for p in products:\n",
        "    sum += p\n",
        "  yield (i, sum)\n",
        "\n",
        "def RECORDREADER():\n",
        "  for i in range(mat.shape[0]):\n",
        "    for j in range(mat.shape[1]):\n",
        "      yield ((i, j), mat[i, j])\n",
        "\n",
        "print(mat)\n",
        "print(vec)\n",
        "output = MapReduce(RECORDREADER, MAP, REDUCE)\n",
        "output = list(output)\n",
        "output"
      ],
      "execution_count": 20,
      "outputs": [
        {
          "output_type": "stream",
          "name": "stdout",
          "text": [
            "[[1. 1. 1. 1.]\n",
            " [1. 1. 1. 1.]\n",
            " [1. 1. 1. 1.]\n",
            " [1. 1. 1. 1.]\n",
            " [1. 1. 1. 1.]]\n",
            "[0.41133749 0.71000563 0.2499293  0.19705739]\n"
          ]
        },
        {
          "output_type": "execute_result",
          "data": {
            "text/plain": [
              "[(0, 1.5683297996204608),\n",
              " (1, 1.5683297996204608),\n",
              " (2, 1.5683297996204608),\n",
              " (3, 1.5683297996204608),\n",
              " (4, 1.5683297996204608)]"
            ]
          },
          "metadata": {},
          "execution_count": 20
        }
      ]
    },
    {
      "cell_type": "markdown",
      "metadata": {
        "id": "ruZREYdi2o4O"
      },
      "source": [
        "## Inverted index"
      ]
    },
    {
      "cell_type": "code",
      "metadata": {
        "id": "vt9H9Alf3TYv",
        "colab": {
          "base_uri": "https://localhost:8080/"
        },
        "outputId": "8740c08b-c92a-4b89-ecb1-14938488c0ea"
      },
      "source": [
        "from typing import Iterator\n",
        "\n",
        "d1 = \"it is what it is\"\n",
        "d2 = \"what is it\"\n",
        "d3 = \"it is a banana\"\n",
        "documents = [d1, d2, d3]\n",
        "\n",
        "def RECORDREADER():\n",
        "  for (docid, document) in enumerate(documents):\n",
        "    yield (\"{}\".format(docid), document)\n",
        "\n",
        "def MAP(docId: str, body: str):\n",
        "  for word in set(body.split(' ')):\n",
        "    yield (word, docId)\n",
        "\n",
        "def REDUCE(word: str, docIds: Iterator[str]):\n",
        "  yield (word, sorted(docIds))\n",
        "\n",
        "output = MapReduce(RECORDREADER, MAP, REDUCE)\n",
        "output = list(output)\n",
        "output"
      ],
      "execution_count": 22,
      "outputs": [
        {
          "output_type": "execute_result",
          "data": {
            "text/plain": [
              "[('what', ['0', '1']),\n",
              " ('is', ['0', '1', '2']),\n",
              " ('it', ['0', '1', '2']),\n",
              " ('a', ['2']),\n",
              " ('banana', ['2'])]"
            ]
          },
          "metadata": {},
          "execution_count": 22
        }
      ]
    },
    {
      "cell_type": "markdown",
      "metadata": {
        "id": "R7az-6DA6qr2"
      },
      "source": [
        "## WordCount"
      ]
    },
    {
      "cell_type": "code",
      "metadata": {
        "id": "dN-nbtgG6uYG",
        "colab": {
          "base_uri": "https://localhost:8080/"
        },
        "outputId": "e4ec2246-a7c2-4529-fa3f-6a841472a781"
      },
      "source": [
        "from typing import Iterator\n",
        "\n",
        "d1 = \"\"\"\n",
        "it is what it is\n",
        "it is what it is\n",
        "it is what it is\"\"\"\n",
        "d2 = \"\"\"\n",
        "what is it\n",
        "what is it\"\"\"\n",
        "d3 = \"\"\"\n",
        "it is a banana\"\"\"\n",
        "documents = [d1, d2, d3]\n",
        "\n",
        "def RECORDREADER():\n",
        "  for (docid, document) in enumerate(documents):\n",
        "    for (lineid, line) in enumerate(document.split('\\n')):\n",
        "      yield (\"{}:{}\".format(docid, lineid), line)\n",
        "\n",
        "def MAP(docId: str, line: str):\n",
        "  for word in line.split(\" \"):\n",
        "    yield (word, 1)\n",
        "\n",
        "def REDUCE(word: str, counts: Iterator[int]):\n",
        "  sum = 0\n",
        "  for c in counts:\n",
        "    sum += c\n",
        "  yield (word, sum)\n",
        "\n",
        "output = MapReduce(RECORDREADER, MAP, REDUCE)\n",
        "output = list(output)\n",
        "output"
      ],
      "execution_count": 25,
      "outputs": [
        {
          "output_type": "execute_result",
          "data": {
            "text/plain": [
              "[('', 3), ('it', 9), ('is', 9), ('what', 5), ('a', 1), ('banana', 1)]"
            ]
          },
          "metadata": {},
          "execution_count": 25
        }
      ]
    },
    {
      "cell_type": "markdown",
      "metadata": {
        "id": "h-jRAcYCAkkk"
      },
      "source": [
        "# MapReduce Distributed\n",
        "\n",
        "Добавляется в модель фабрика RECORDREARER-ов --- INPUTFORMAT, функция распределения промежуточных результатов по партициям PARTITIONER, и функция COMBINER для частичной аггрегации промежуточных результатов до распределения по новым партициям."
      ]
    },
    {
      "cell_type": "code",
      "metadata": {
        "id": "nw-b-xJsApgW"
      },
      "source": [
        "def flatten(nested_iterable):\n",
        "  for iterable in nested_iterable:\n",
        "    for element in iterable:\n",
        "      yield element\n",
        "\n",
        "def groupbykey(iterable):\n",
        "  t = {}\n",
        "  for (k2, v2) in iterable:\n",
        "    t[k2] = t.get(k2, []) + [v2]\n",
        "  return t.items()\n",
        "\n",
        "def groupbykey_distributed(map_partitions, PARTITIONER):\n",
        "  global reducers\n",
        "  partitions = [dict() for _ in range(reducers)]\n",
        "  for map_partition in map_partitions:\n",
        "    for (k2, v2) in map_partition:\n",
        "      p = partitions[PARTITIONER(k2)]\n",
        "      p[k2] = p.get(k2, []) + [v2]\n",
        "  return [(partition_id, sorted(partition.items(), key=lambda x: x[0])) for (partition_id, partition) in enumerate(partitions)]\n",
        "\n",
        "def PARTITIONER(obj):\n",
        "  global reducers\n",
        "  return hash(obj) % reducers\n",
        "\n",
        "def MapReduceDistributed(INPUTFORMAT, MAP, REDUCE, PARTITIONER=PARTITIONER, COMBINER=None):\n",
        "  map_partitions = map(lambda record_reader: flatten(map(lambda k1v1: MAP(*k1v1), record_reader)), INPUTFORMAT())\n",
        "  if COMBINER != None:\n",
        "    map_partitions = map(lambda map_partition: flatten(map(lambda k2v2: COMBINER(*k2v2), groupbykey(map_partition))), map_partitions)\n",
        "  reduce_partitions = groupbykey_distributed(map_partitions, PARTITIONER) # shuffle\n",
        "  reduce_outputs = map(lambda reduce_partition: (reduce_partition[0], flatten(map(lambda reduce_input_group: REDUCE(*reduce_input_group), reduce_partition[1]))), reduce_partitions)\n",
        "\n",
        "  print(\"{} key-value pairs were sent over a network.\".format(sum([len(vs) for (k,vs) in flatten([partition for (partition_id, partition) in reduce_partitions])])))\n",
        "  return reduce_outputs"
      ],
      "execution_count": 36,
      "outputs": []
    },
    {
      "cell_type": "markdown",
      "metadata": {
        "id": "kxirlf3XqZxY"
      },
      "source": [
        "## Спецификация MapReduce Distributed\n",
        "\n",
        "\n",
        "```\n",
        "f (k1, v1) -> (k2,v2)*\n",
        "g (k2, v2*) -> (k3,v3)*\n",
        "\n",
        "e1 (k1, v1)\n",
        "e2 (k2, v2)\n",
        "partition1 (k2, v2)*\n",
        "partition2 (k2, v2*)*\n",
        "\n",
        "flatmap (e1->e2*, e1*) -> partition1*\n",
        "groupby (partition1*) -> partition2*\n",
        "\n",
        "mapreduce ((k1,v1)*) -> (k3,v3)*\n",
        "mapreduce .flatmap(f).groupby(k2).flatmap(g)\n",
        "```\n",
        "\n"
      ]
    },
    {
      "cell_type": "markdown",
      "metadata": {
        "id": "CWYw_CpbbY3C"
      },
      "source": [
        "## WordCount"
      ]
    },
    {
      "cell_type": "code",
      "metadata": {
        "id": "uR_zfGFkMZlp",
        "colab": {
          "base_uri": "https://localhost:8080/"
        },
        "outputId": "3e40552b-2d40-42d0-aff8-6a3cb1e1e0f7"
      },
      "source": [
        "from typing import Iterator\n",
        "import numpy as np\n",
        "\n",
        "d1 = \"\"\"\n",
        "it is what it is\n",
        "it is what it is\n",
        "it is what it is\"\"\"\n",
        "d2 = \"\"\"\n",
        "what is it\n",
        "what is it\"\"\"\n",
        "d3 = \"\"\"\n",
        "it is a banana\"\"\"\n",
        "documents = [d1, d2, d3, d1, d2, d3]\n",
        "\n",
        "maps = 3\n",
        "reducers = 2\n",
        "\n",
        "def INPUTFORMAT():\n",
        "  global maps\n",
        "\n",
        "  def RECORDREADER(split):\n",
        "    for (docid, document) in enumerate(split):\n",
        "      for (lineid, line) in enumerate(document.split('\\n')):\n",
        "        yield (\"{}:{}\".format(docid, lineid), line)\n",
        "\n",
        "  split_size = int(np.ceil(len(documents) / maps))\n",
        "\n",
        "  for i in range(0, len(documents), split_size):\n",
        "    yield RECORDREADER(documents[i:i + split_size])\n",
        "\n",
        "def MAP(docId: str, line: str):\n",
        "  for word in line.split(\" \"):\n",
        "    yield (word, 1)\n",
        "\n",
        "def REDUCE(word: str, counts: Iterator[int]):\n",
        "  sum = 0\n",
        "  for c in counts:\n",
        "    sum += c\n",
        "  yield (word, sum)\n",
        "\n",
        "# try to set COMBINER=REDUCER and look at the number of values sent over the network\n",
        "partitioned_output = MapReduceDistributed(INPUTFORMAT, MAP, REDUCE, COMBINER=None)\n",
        "partitioned_output = [(partition_id, list(partition)) for (partition_id, partition) in partitioned_output]\n",
        "partitioned_output"
      ],
      "execution_count": 70,
      "outputs": [
        {
          "output_type": "stream",
          "name": "stdout",
          "text": [
            "56 key-value pairs were sent over a network.\n"
          ]
        },
        {
          "output_type": "execute_result",
          "data": {
            "text/plain": [
              "[(0, [('', 6), ('a', 2), ('is', 18)]),\n",
              " (1, [('banana', 2), ('it', 18), ('what', 10)])]"
            ]
          },
          "metadata": {},
          "execution_count": 70
        }
      ]
    },
    {
      "cell_type": "markdown",
      "metadata": {
        "id": "gCJGx8IQ87xS"
      },
      "source": [
        "## TeraSort"
      ]
    },
    {
      "cell_type": "code",
      "metadata": {
        "id": "P2v8v1v_8_YR",
        "colab": {
          "base_uri": "https://localhost:8080/"
        },
        "outputId": "40dd0e36-d9f3-40f3-e38f-c7d0b80e8679"
      },
      "source": [
        "import numpy as np\n",
        "\n",
        "input_values = np.random.rand(30)\n",
        "maps = 3\n",
        "reducers = 2\n",
        "min_value = 0.0\n",
        "max_value = 1.0\n",
        "\n",
        "def INPUTFORMAT():\n",
        "  global maps\n",
        "\n",
        "  def RECORDREADER(split):\n",
        "    for value in split:\n",
        "        yield (value, None)\n",
        "\n",
        "  split_size =  int(np.ceil(len(input_values) / maps))\n",
        "  for i in range(0, len(input_values), split_size):\n",
        "    yield RECORDREADER(input_values[i:i+split_size])\n",
        "\n",
        "def MAP(value:int, _):\n",
        "  yield (value, None)\n",
        "\n",
        "def PARTITIONER(key):\n",
        "  global reducers\n",
        "  global max_value\n",
        "  global min_value\n",
        "  bucket_size = (max_value-min_value)/reducers\n",
        "  bucket_id = 0\n",
        "  while((key>(bucket_id+1)*bucket_size) and ((bucket_id+1)*bucket_size<max_value)):\n",
        "    bucket_id += 1\n",
        "  return bucket_id\n",
        "\n",
        "def REDUCE(value:int, _):\n",
        "  yield (None,value)\n",
        "\n",
        "partitioned_output = MapReduceDistributed(INPUTFORMAT, MAP, REDUCE, COMBINER=None, PARTITIONER=PARTITIONER)\n",
        "partitioned_output = [(partition_id, list(partition)) for (partition_id, partition) in partitioned_output]\n",
        "partitioned_output"
      ],
      "execution_count": 38,
      "outputs": [
        {
          "output_type": "stream",
          "name": "stdout",
          "text": [
            "30 key-value pairs were sent over a network.\n"
          ]
        },
        {
          "output_type": "execute_result",
          "data": {
            "text/plain": [
              "[(0,\n",
              "  [(None, 0.09389992418310977),\n",
              "   (None, 0.1677907622567424),\n",
              "   (None, 0.17484362030619816),\n",
              "   (None, 0.204379180426289),\n",
              "   (None, 0.20467290399866034),\n",
              "   (None, 0.23808872858458519),\n",
              "   (None, 0.3110296202758288),\n",
              "   (None, 0.345753856262608),\n",
              "   (None, 0.3546705484662783),\n",
              "   (None, 0.410876431122819),\n",
              "   (None, 0.42142908704301796),\n",
              "   (None, 0.4387423923625001),\n",
              "   (None, 0.4605038396661363),\n",
              "   (None, 0.4674352204256146)]),\n",
              " (1,\n",
              "  [(None, 0.5281168107080463),\n",
              "   (None, 0.6178454168340464),\n",
              "   (None, 0.6405257371695202),\n",
              "   (None, 0.660767812595924),\n",
              "   (None, 0.6748395604831567),\n",
              "   (None, 0.6867820569109038),\n",
              "   (None, 0.7014913944870754),\n",
              "   (None, 0.7936411461701977),\n",
              "   (None, 0.797617405359905),\n",
              "   (None, 0.8415802928021924),\n",
              "   (None, 0.8515786029287807),\n",
              "   (None, 0.860706903557908),\n",
              "   (None, 0.8946718479892869),\n",
              "   (None, 0.8956034007691865),\n",
              "   (None, 0.8964648704860725),\n",
              "   (None, 0.913136649056017)])]"
            ]
          },
          "metadata": {},
          "execution_count": 38
        }
      ]
    },
    {
      "cell_type": "markdown",
      "metadata": {
        "id": "Iy65YJTH99iT"
      },
      "source": [
        "# Упражнения\n",
        "Упражнения взяты из Rajaraman A., Ullman J. D. Mining of massive datasets. – Cambridge University Press, 2011.\n",
        "\n",
        "\n",
        "Для выполнения заданий переопределите функции RECORDREADER, MAP, REDUCE. Для модели распределённой системы может потребоваться переопределение функций PARTITION и COMBINER."
      ]
    },
    {
      "cell_type": "markdown",
      "metadata": {
        "id": "cfvAeZm3S8S8"
      },
      "source": [
        "### Максимальное значение ряда\n",
        "\n",
        "Разработайте MapReduce алгоритм, который находит максимальное число входного списка чисел."
      ]
    },
    {
      "cell_type": "code",
      "metadata": {
        "id": "3GRA1JR-Tkbg",
        "colab": {
          "base_uri": "https://localhost:8080/"
        },
        "outputId": "7afb81b1-5743-4b84-8382-e858db5508af"
      },
      "source": [
        "from typing import Iterator\n",
        "from typing import List\n",
        "import numpy as np\n",
        "\n",
        "n = 10000\n",
        "\n",
        "def MAP(key: int, value: int):\n",
        "    yield (1, value)\n",
        "\n",
        "def REDUCE(key: int, row: List[int]):\n",
        "    yield max(row)\n",
        "\n",
        "def RECORDREADER():\n",
        "    return [(index, num) for (index, num) in enumerate(np.random.randint(1000, size=n))]\n",
        "\n",
        "output = MapReduce(RECORDREADER, MAP, REDUCE)\n",
        "output = list(output)\n",
        "output"
      ],
      "execution_count": 39,
      "outputs": [
        {
          "output_type": "execute_result",
          "data": {
            "text/plain": [
              "[999]"
            ]
          },
          "metadata": {},
          "execution_count": 39
        }
      ]
    },
    {
      "cell_type": "markdown",
      "metadata": {
        "id": "k86bXnqZTk-U"
      },
      "source": [
        "### Арифметическое среднее\n",
        "\n",
        "Разработайте MapReduce алгоритм, который находит арифметическое среднее.\n",
        "\n",
        "$$\\overline{X} = \\frac{1}{n}\\sum_{i=0}^{n} x_i$$\n"
      ]
    },
    {
      "cell_type": "code",
      "source": [
        "n = 10000\n",
        "\n",
        "def MAP(key: int, value: int):\n",
        "    yield (1, value)\n",
        "\n",
        "def REDUCE(key: int, row: List[int]):\n",
        "    yield sum(row) / len(row)\n",
        "\n",
        "def RECORDREADER():\n",
        "    return [(index, num) for (index, num) in enumerate(np.random.randint(1000, size=n))]\n",
        "\n",
        "output = MapReduce(RECORDREADER, MAP, REDUCE)\n",
        "output = list(output)\n",
        "output"
      ],
      "metadata": {
        "colab": {
          "base_uri": "https://localhost:8080/"
        },
        "id": "yOnfFzY11FQn",
        "outputId": "4ac3f7d9-03bb-4e4b-c090-89384d623655"
      },
      "execution_count": 40,
      "outputs": [
        {
          "output_type": "execute_result",
          "data": {
            "text/plain": [
              "[497.3569]"
            ]
          },
          "metadata": {},
          "execution_count": 40
        }
      ]
    },
    {
      "cell_type": "markdown",
      "source": [
        "### Арифметическое среднее v.2"
      ],
      "metadata": {
        "id": "NkxtjIgKA4CS"
      }
    },
    {
      "cell_type": "code",
      "metadata": {
        "id": "MPoY5pkfUNZf",
        "colab": {
          "base_uri": "https://localhost:8080/"
        },
        "outputId": "a226eeb2-dc38-4762-80d2-d60feda2f809"
      },
      "source": [
        "def MAP(key: int, row: List[int]):\n",
        "    yield (1, (sum(row) / len(row), len(row)))\n",
        "\n",
        "def REDUCE(_, rows: Iterator[List[int]]):\n",
        "    sum = 0\n",
        "    size = 0\n",
        "\n",
        "    for (a, n) in rows:\n",
        "        sum += a * n\n",
        "        size += n\n",
        "\n",
        "    yield sum / size\n",
        "\n",
        "def RECORDREADER():\n",
        "    return [(i, np.random.randint(1000, size=n)) for i in range(10)]\n",
        "\n",
        "output = MapReduce(RECORDREADER, MAP, REDUCE)\n",
        "output = list(output)\n",
        "output"
      ],
      "execution_count": 41,
      "outputs": [
        {
          "output_type": "execute_result",
          "data": {
            "text/plain": [
              "[499.19997]"
            ]
          },
          "metadata": {},
          "execution_count": 41
        }
      ]
    },
    {
      "cell_type": "markdown",
      "metadata": {
        "id": "xanzszhsIlLe"
      },
      "source": [
        "### GroupByKey на основе сортировки\n",
        "\n",
        "Реализуйте groupByKey на основе сортировки, проверьте его работу на примерах"
      ]
    },
    {
      "cell_type": "code",
      "metadata": {
        "id": "hQPn3USsIkEC",
        "colab": {
          "base_uri": "https://localhost:8080/"
        },
        "outputId": "efc70ab3-30d6-4bd5-d7db-554757697aee"
      },
      "source": [
        "n = 10\n",
        "\n",
        "def MAP(key: int, value: int):\n",
        "    yield (1, value)\n",
        "\n",
        "def RECORDREADER():\n",
        "    return [(index, num) for (index, num) in enumerate(np.random.randint(1000, size=n))]\n",
        "\n",
        "def groupbykey_sorted(iterable):\n",
        "  t = {}\n",
        "\n",
        "  for (k2, v2) in iterable:\n",
        "    t[k2] = sorted(t.get(k2, []) + [v2])\n",
        "\n",
        "  return t.items()\n",
        "\n",
        "print(groupbykey(flatten(map(lambda x: MAP(*x), RECORDREADER()))))\n",
        "print(groupbykey_sorted(flatten(map(lambda x: MAP(*x), RECORDREADER()))))"
      ],
      "execution_count": 42,
      "outputs": [
        {
          "output_type": "stream",
          "name": "stdout",
          "text": [
            "dict_items([(1, [841, 380, 704, 958, 774, 914, 748, 720, 205, 927])])\n",
            "dict_items([(1, [23, 53, 89, 100, 107, 197, 420, 555, 565, 578])])\n"
          ]
        }
      ]
    },
    {
      "cell_type": "markdown",
      "metadata": {
        "id": "5SgEjCZyGnu6"
      },
      "source": [
        "### Drop duplicates (set construction, unique elements, distinct)\n",
        "\n",
        "Реализуйте распределённую операцию исключения дубликатов"
      ]
    },
    {
      "cell_type": "code",
      "metadata": {
        "id": "okjbyApjGhMt",
        "colab": {
          "base_uri": "https://localhost:8080/"
        },
        "outputId": "31a02c14-eb4e-4a6d-99fe-eb45dfb6e187"
      },
      "source": [
        "def MAP(key: int, value: int):\n",
        "    yield (value, value)\n",
        "\n",
        "def REDUCE(key: int, rows: List[int]):\n",
        "    yield key\n",
        "\n",
        "def RECORDREADER():\n",
        "    return [(index, value) for (index, value) in enumerate(np.random.randint(10, size=10000))]\n",
        "\n",
        "\n",
        "output = MapReduce(RECORDREADER, MAP, REDUCE)\n",
        "output = list(sorted(output))\n",
        "output"
      ],
      "execution_count": 96,
      "outputs": [
        {
          "output_type": "execute_result",
          "data": {
            "text/plain": [
              "[0, 1, 2, 3, 4, 5, 6, 7, 8, 9]"
            ]
          },
          "metadata": {},
          "execution_count": 96
        }
      ]
    },
    {
      "cell_type": "code",
      "source": [
        "d1 = \"\"\"\n",
        "it is what it is\n",
        "it is what it is\n",
        "it is what it is\"\"\"\n",
        "d2 = \"\"\"\n",
        "what is it\n",
        "what is it\"\"\"\n",
        "d3 = \"\"\"\n",
        "it is a banana\"\"\"\n",
        "documents = [d1, d2, d3, d1, d2, d3]\n",
        "\n",
        "maps = 3\n",
        "reducers = 2\n",
        "\n",
        "def INPUTFORMAT():\n",
        "  global maps\n",
        "\n",
        "  def RECORDREADER(split):\n",
        "    for (docid, document) in enumerate(split):\n",
        "      for (lineid, line) in enumerate(document.split('\\n')):\n",
        "        yield (\"{}:{}\".format(docid, lineid), line)\n",
        "\n",
        "  split_size = int(np.ceil(len(documents) / maps))\n",
        "\n",
        "  for i in range(0, len(documents), split_size):\n",
        "    yield RECORDREADER(documents[i:i + split_size])\n",
        "\n",
        "def MAP(docId: str, line: str):\n",
        "  for word in line.split(\" \"):\n",
        "    yield (word, 1)\n",
        "\n",
        "def REDUCE(word: str, counts: Iterator[int]):\n",
        "  yield word\n",
        "\n",
        "# try to set COMBINER=REDUCER and look at the number of values sent over the network\n",
        "partitioned_output = MapReduceDistributed(INPUTFORMAT, MAP, REDUCE, COMBINER=None)\n",
        "partitioned_output = [(partition_id, list(partition)) for (partition_id, partition) in partitioned_output]\n",
        "partitioned_output"
      ],
      "metadata": {
        "colab": {
          "base_uri": "https://localhost:8080/"
        },
        "id": "aUOr8A9tsprj",
        "outputId": "0f8cbe4c-b4b8-4ef4-8451-09c0ef292a6e"
      },
      "execution_count": 97,
      "outputs": [
        {
          "output_type": "stream",
          "name": "stdout",
          "text": [
            "56 key-value pairs were sent over a network.\n"
          ]
        },
        {
          "output_type": "execute_result",
          "data": {
            "text/plain": [
              "[(0, ['', 'a', 'is']), (1, ['banana', 'it', 'what'])]"
            ]
          },
          "metadata": {},
          "execution_count": 97
        }
      ]
    },
    {
      "cell_type": "markdown",
      "metadata": {
        "id": "e7sRGoTXuJze"
      },
      "source": [
        "#Операторы реляционной алгебры\n",
        "### Selection (Выборка)\n",
        "\n",
        "**The Map Function**: Для  каждого кортежа $t \\in R$ вычисляется истинность предиката $C$. В случае истины создаётся пара ключ-значение $(t, t)$. В паре ключ и значение одинаковы, равны $t$.\n",
        "\n",
        "**The Reduce Function:** Роль функции Reduce выполняет функция идентичности, которая возвращает то же значение, что получила на вход.\n",
        "\n"
      ]
    },
    {
      "cell_type": "code",
      "metadata": {
        "id": "4nKIKe59uIfc",
        "colab": {
          "base_uri": "https://localhost:8080/"
        },
        "outputId": "5cf04047-4697-4ba5-dc4e-9859aecf85fc"
      },
      "source": [
        "input_collection = [\n",
        "    User(id=0, age=55, gender='male', social_contacts=20),\n",
        "    User(id=1, age=25, gender='female', social_contacts=240),\n",
        "    User(id=2, age=25, gender='female', social_contacts=500),\n",
        "    User(id=3, age=33, gender='female', social_contacts=800),\n",
        "    User(id=4, age=16, gender='male', social_contacts=420)\n",
        "]\n",
        "\n",
        "def MAP(key, value):\n",
        "    if value.age > 18:\n",
        "      yield (value, value)\n",
        "\n",
        "def REDUCE(*args):\n",
        "    yield args\n",
        "\n",
        "def RECORDREADER():\n",
        "    return [(u.id, u) for u in input_collection]\n",
        "\n",
        "output = MapReduce(RECORDREADER, MAP, REDUCE)\n",
        "output = list(map(lambda x: x[0], list(sorted(output))))\n",
        "output"
      ],
      "execution_count": 44,
      "outputs": [
        {
          "output_type": "execute_result",
          "data": {
            "text/plain": [
              "[User(id=0, age=55, social_contacts=20, gender='male'),\n",
              " User(id=1, age=25, social_contacts=240, gender='female'),\n",
              " User(id=2, age=25, social_contacts=500, gender='female'),\n",
              " User(id=3, age=33, social_contacts=800, gender='female')]"
            ]
          },
          "metadata": {},
          "execution_count": 44
        }
      ]
    },
    {
      "cell_type": "markdown",
      "metadata": {
        "id": "w27Ca-_Ku85V"
      },
      "source": [
        "### Projection (Проекция)\n",
        "\n",
        "Проекция на множество атрибутов $S$.\n",
        "\n",
        "**The Map Function:** Для каждого кортежа $t \\in R$ создайте кортеж $t′$, исключая  из $t$ те значения, атрибуты которых не принадлежат  $S$. Верните пару $(t′, t′)$.\n",
        "\n",
        "**The Reduce Function:** Для каждого ключа $t′$, созданного любой Map задачей, вы получаете одну или несколько пар $(t′, t′)$. Reduce функция преобразует $(t′, [t′, t′, . . . , t′])$ в $(t′, t′)$, так, что для ключа $t′$ возвращается одна пара  $(t′, t′)$."
      ]
    },
    {
      "cell_type": "code",
      "metadata": {
        "id": "BEvuY4GqvhS6",
        "colab": {
          "base_uri": "https://localhost:8080/"
        },
        "outputId": "32e82fe1-d493-4dd1-fe6b-690e10306282"
      },
      "source": [
        "class UserProjection(NamedTuple):\n",
        "  id: int\n",
        "  age: int\n",
        "\n",
        "input_collection = [\n",
        "    User(id=0, age=55, gender='male', social_contacts=20),\n",
        "    User(id=1, age=25, gender='female', social_contacts=240),\n",
        "    User(id=1, age=25, gender='female', social_contacts=240),\n",
        "    User(id=2, age=25, gender='female', social_contacts=500),\n",
        "    User(id=3, age=33, gender='female', social_contacts=800),\n",
        "    User(id=4, age=16, gender='male', social_contacts=420)\n",
        "]\n",
        "\n",
        "def MAP(key, value):\n",
        "  yield (UserProjection(id=value.id, age=value.age), UserProjection(id=value.id, age=value.age))\n",
        "\n",
        "def REDUCE(key, rows):\n",
        "  yield (key, key)\n",
        "\n",
        "def RECORDREADER():\n",
        "  return [(u.id, u) for u in input_collection]\n",
        "\n",
        "output = MapReduce(RECORDREADER, MAP, REDUCE)\n",
        "output = list(sorted(output))\n",
        "output"
      ],
      "execution_count": 45,
      "outputs": [
        {
          "output_type": "execute_result",
          "data": {
            "text/plain": [
              "[(UserProjection(id=0, age=55), UserProjection(id=0, age=55)),\n",
              " (UserProjection(id=1, age=25), UserProjection(id=1, age=25)),\n",
              " (UserProjection(id=2, age=25), UserProjection(id=2, age=25)),\n",
              " (UserProjection(id=3, age=33), UserProjection(id=3, age=33)),\n",
              " (UserProjection(id=4, age=16), UserProjection(id=4, age=16))]"
            ]
          },
          "metadata": {},
          "execution_count": 45
        }
      ]
    },
    {
      "cell_type": "markdown",
      "metadata": {
        "id": "7gau6lKXvn2R"
      },
      "source": [
        "### Union (Объединение)\n",
        "\n",
        "**The Map Function:** Превратите каждый входной кортеж $t$ в пару ключ-значение $(t, t)$.\n",
        "\n",
        "**The Reduce Function:** С каждым ключом $t$ будет ассоциировано одно или два значений. В обоих случаях создайте $(t, t)$ в качестве выходного значения."
      ]
    },
    {
      "cell_type": "code",
      "metadata": {
        "id": "Sns7a5agv3nw",
        "colab": {
          "base_uri": "https://localhost:8080/"
        },
        "outputId": "41dd1819-4ab4-4e12-d945-bde55cf8db28"
      },
      "source": [
        "first_collection = [\n",
        "    User(id=0, age=55, gender='male', social_contacts=20),\n",
        "    User(id=1, age=25, gender='female', social_contacts=240),\n",
        "    User(id=2, age=25, gender='female', social_contacts=500),\n",
        "    User(id=3, age=33, gender='female', social_contacts=800),\n",
        "    User(id=4, age=16, gender='male', social_contacts=420),\n",
        "]\n",
        "second_collection = [\n",
        "    User(id=2, age=25, gender='female', social_contacts=500),\n",
        "    User(id=5, age=18, gender='male', social_contacts=322),\n",
        "    User(id=6, age=23, gender='male', social_contacts=228),\n",
        "]\n",
        "\n",
        "def MAP(key, value):\n",
        "  yield (value, value)\n",
        "\n",
        "def REDUCE(key, rows):\n",
        "  yield (key, key)\n",
        "\n",
        "def RECORDREADER():\n",
        "  return [(u.id, u) for u in first_collection + second_collection]\n",
        "\n",
        "output = MapReduce(RECORDREADER, MAP, REDUCE)\n",
        "output = list(sorted(output))\n",
        "output"
      ],
      "execution_count": 46,
      "outputs": [
        {
          "output_type": "execute_result",
          "data": {
            "text/plain": [
              "[(User(id=0, age=55, social_contacts=20, gender='male'),\n",
              "  User(id=0, age=55, social_contacts=20, gender='male')),\n",
              " (User(id=1, age=25, social_contacts=240, gender='female'),\n",
              "  User(id=1, age=25, social_contacts=240, gender='female')),\n",
              " (User(id=2, age=25, social_contacts=500, gender='female'),\n",
              "  User(id=2, age=25, social_contacts=500, gender='female')),\n",
              " (User(id=3, age=33, social_contacts=800, gender='female'),\n",
              "  User(id=3, age=33, social_contacts=800, gender='female')),\n",
              " (User(id=4, age=16, social_contacts=420, gender='male'),\n",
              "  User(id=4, age=16, social_contacts=420, gender='male')),\n",
              " (User(id=5, age=18, social_contacts=322, gender='male'),\n",
              "  User(id=5, age=18, social_contacts=322, gender='male')),\n",
              " (User(id=6, age=23, social_contacts=228, gender='male'),\n",
              "  User(id=6, age=23, social_contacts=228, gender='male'))]"
            ]
          },
          "metadata": {},
          "execution_count": 46
        }
      ]
    },
    {
      "cell_type": "markdown",
      "metadata": {
        "id": "dQ8TuEbjv4J8"
      },
      "source": [
        "### Intersection (Пересечение)\n",
        "\n",
        "**The Map Function:** Превратите каждый кортеж $t$ в пары ключ-значение $(t, t)$.\n",
        "\n",
        "**The Reduce Function:** Если для ключа $t$ есть список из двух элементов $[t, t]$ $-$ создайте пару $(t, t)$. Иначе, ничего не создавайте."
      ]
    },
    {
      "cell_type": "code",
      "metadata": {
        "id": "XKlBZh4IwERR",
        "colab": {
          "base_uri": "https://localhost:8080/"
        },
        "outputId": "a26bf558-d1ee-440e-b582-4c67fe4910bb"
      },
      "source": [
        "first_collection = [\n",
        "    User(id=0, age=55, gender='male', social_contacts=20),\n",
        "    User(id=1, age=25, gender='female', social_contacts=240),\n",
        "    User(id=2, age=25, gender='female', social_contacts=500),\n",
        "    User(id=3, age=33, gender='female', social_contacts=800),\n",
        "    User(id=4, age=16, gender='male', social_contacts=420),\n",
        "]\n",
        "second_collection = [\n",
        "    User(id=2, age=25, gender='female', social_contacts=500),\n",
        "    User(id=4, age=16, gender='male', social_contacts=420),\n",
        "    User(id=6, age=23, gender='male', social_contacts=228),\n",
        "]\n",
        "\n",
        "def MAP(key, value):\n",
        "  yield (value, value)\n",
        "\n",
        "def REDUCE(key, rows):\n",
        "  if len(rows) > 1:\n",
        "    yield (key, key)\n",
        "\n",
        "def RECORDREADER():\n",
        "  return [(u.id, u) for u in first_collection + second_collection]\n",
        "\n",
        "output = MapReduce(RECORDREADER, MAP, REDUCE)\n",
        "output = list(sorted(output))\n",
        "output"
      ],
      "execution_count": 47,
      "outputs": [
        {
          "output_type": "execute_result",
          "data": {
            "text/plain": [
              "[(User(id=2, age=25, social_contacts=500, gender='female'),\n",
              "  User(id=2, age=25, social_contacts=500, gender='female')),\n",
              " (User(id=4, age=16, social_contacts=420, gender='male'),\n",
              "  User(id=4, age=16, social_contacts=420, gender='male'))]"
            ]
          },
          "metadata": {},
          "execution_count": 47
        }
      ]
    },
    {
      "cell_type": "markdown",
      "metadata": {
        "id": "AVOpqoY3wE5k"
      },
      "source": [
        "### Difference (Разница)\n",
        "\n",
        "**The Map Function:** Для кортежа $t \\in R$, создайте пару $(t, R)$, и для кортежа $t \\in S$, создайте пару $(t, S)$. Задумка заключается в том, чтобы значение пары было именем отношения $R$ or $S$, которому принадлежит кортеж (а лучше, единичный бит, по которому можно два отношения различить $R$ or $S$), а не весь набор атрибутов отношения.\n",
        "\n",
        "**The Reduce Function:** Для каждого ключа $t$, если соответствующее значение является списком $[R]$, создайте пару $(t, t)$. В иных случаях не предпринимайте действий."
      ]
    },
    {
      "cell_type": "code",
      "metadata": {
        "id": "QE_AC09lwZIZ",
        "colab": {
          "base_uri": "https://localhost:8080/"
        },
        "outputId": "c28eda61-8bb3-4de1-ddd0-d8562c624295"
      },
      "source": [
        "first_collection = [\n",
        "    User(id=0, age=55, gender='male', social_contacts=20),\n",
        "    User(id=1, age=25, gender='female', social_contacts=240),\n",
        "    User(id=2, age=25, gender='female', social_contacts=500),\n",
        "    User(id=3, age=33, gender='female', social_contacts=800),\n",
        "    User(id=4, age=16, gender='male', social_contacts=420),\n",
        "]\n",
        "\n",
        "second_collection = [\n",
        "    User(id=2, age=25, gender='female', social_contacts=500),\n",
        "    User(id=4, age=16, gender='male', social_contacts=420),\n",
        "    User(id=6, age=23, gender='male', social_contacts=228),\n",
        "]\n",
        "\n",
        "def contains(list, item):\n",
        "    for el in list:\n",
        "      if el is item:\n",
        "        return True\n",
        "    return False\n",
        "\n",
        "def MAP(key, value):\n",
        "  if contains(first_collection, value):\n",
        "    yield (value, 0)\n",
        "  elif contains(second_collection, value):\n",
        "    yield (value, 1)\n",
        "\n",
        "def REDUCE(key, rows):\n",
        "  if (rows == [0]):\n",
        "    yield (key, key)\n",
        "\n",
        "def RECORDREADER():\n",
        "  return [(u.id, u) for u in first_collection + second_collection]\n",
        "\n",
        "output = MapReduce(RECORDREADER, MAP, REDUCE)\n",
        "output = list(sorted(output))\n",
        "output"
      ],
      "execution_count": 48,
      "outputs": [
        {
          "output_type": "execute_result",
          "data": {
            "text/plain": [
              "[(User(id=0, age=55, social_contacts=20, gender='male'),\n",
              "  User(id=0, age=55, social_contacts=20, gender='male')),\n",
              " (User(id=1, age=25, social_contacts=240, gender='female'),\n",
              "  User(id=1, age=25, social_contacts=240, gender='female')),\n",
              " (User(id=3, age=33, social_contacts=800, gender='female'),\n",
              "  User(id=3, age=33, social_contacts=800, gender='female'))]"
            ]
          },
          "metadata": {},
          "execution_count": 48
        }
      ]
    },
    {
      "cell_type": "markdown",
      "metadata": {
        "id": "j8I58V2VwhSm"
      },
      "source": [
        "### Natural Join\n",
        "\n",
        "**The Map Function:** Для каждого кортежа $(a, b)$ отношения $R$, создайте пару $(b,(R, a))$. Для каждого кортежа $(b, c)$ отношения $S$, создайте пару $(b,(S, c))$.\n",
        "\n",
        "**The Reduce Function:** Каждый ключ $b$ будет асоциирован со списком пар, которые принимают форму либо $(R, a)$, либо $(S, c)$. Создайте все пары, одни, состоящие из  первого компонента $R$, а другие, из первого компонента $S$, то есть $(R, a)$ и $(S, c)$. На выходе вы получаете последовательность пар ключ-значение из списков ключей и значений. Ключ не нужен. Каждое значение, это тройка $(a, b, c)$ такая, что $(R, a)$ и $(S, c)$ это принадлежат входному списку значений."
      ]
    },
    {
      "cell_type": "code",
      "metadata": {
        "id": "yHiuuTctw86I",
        "colab": {
          "base_uri": "https://localhost:8080/"
        },
        "outputId": "083e2961-5b8f-4cee-fdf5-b9e1467467a9"
      },
      "source": [
        "class Department(NamedTuple):\n",
        "  department_name: str\n",
        "  manager_name: str\n",
        "\n",
        "class PartialDepartment(NamedTuple):\n",
        "  manager_name: str\n",
        "\n",
        "class Employee(NamedTuple):\n",
        "  id: int\n",
        "  name: str\n",
        "  department_name: str\n",
        "\n",
        "class PartialEmployee(NamedTuple):\n",
        "  id: int\n",
        "  name: str\n",
        "\n",
        "class EmployeeDepartment(NamedTuple):\n",
        "  id: int\n",
        "  name: str\n",
        "  department_name: str\n",
        "  manager_name: str\n",
        "\n",
        "department_collection = [\n",
        "    Department(department_name=\"IT\", manager_name=\"Bob\"),\n",
        "    Department(department_name=\"Sales\", manager_name=\"James\"),\n",
        "    Department(department_name=\"HR\", manager_name=\"Anna\"),\n",
        "    Department(department_name=\"Finance\", manager_name=\"William\"),\n",
        "    Department(department_name=\"Marketing\", manager_name=\"Ysabell\")\n",
        "]\n",
        "\n",
        "employee_collection = [\n",
        "   Employee(id=1, name=\"Thomas\", department_name=\"IT\"),\n",
        "   Employee(id=2, name=\"Adam\", department_name=\"IT\"),\n",
        "   Employee(id=3, name=\"Kevin\", department_name=\"Sales\"),\n",
        "   Employee(id=4, name=\"Brian\", department_name=\"HR\"),\n",
        "   Employee(id=5, name=\"George\", department_name=\"Finance\"),\n",
        "   Employee(id=6, name=\"Scott\", department_name=\"Marketing\"),\n",
        "]\n",
        "\n",
        "def MAP(key, value):\n",
        "  if value in employee_collection:\n",
        "    yield (value.department_name, (0, PartialEmployee(id=value.id, name=value.name)))\n",
        "  elif value in department_collection:\n",
        "    yield (value.department_name, (1, PartialDepartment(manager_name=value.manager_name)))\n",
        "\n",
        "def REDUCE(key, rows):\n",
        "  for i in range(len(rows)):\n",
        "    for j in range(len(rows)):\n",
        "      if (rows[i][0] == 1 and rows[j][0] == 0):\n",
        "        yield (key, EmployeeDepartment(id=rows[j][1].id, name=rows[j][1].name, department_name=key, manager_name=rows[i][1].manager_name))\n",
        "\n",
        "def RECORDREADER():\n",
        "  return [(index, u) for index, u in enumerate(department_collection + employee_collection)]\n",
        "\n",
        "output = MapReduce(RECORDREADER, MAP, REDUCE)\n",
        "output = list(sorted(output))\n",
        "output"
      ],
      "execution_count": 49,
      "outputs": [
        {
          "output_type": "execute_result",
          "data": {
            "text/plain": [
              "[('Finance',\n",
              "  EmployeeDepartment(id=5, name='George', department_name='Finance', manager_name='William')),\n",
              " ('HR',\n",
              "  EmployeeDepartment(id=4, name='Brian', department_name='HR', manager_name='Anna')),\n",
              " ('IT',\n",
              "  EmployeeDepartment(id=1, name='Thomas', department_name='IT', manager_name='Bob')),\n",
              " ('IT',\n",
              "  EmployeeDepartment(id=2, name='Adam', department_name='IT', manager_name='Bob')),\n",
              " ('Marketing',\n",
              "  EmployeeDepartment(id=6, name='Scott', department_name='Marketing', manager_name='Ysabell')),\n",
              " ('Sales',\n",
              "  EmployeeDepartment(id=3, name='Kevin', department_name='Sales', manager_name='James'))]"
            ]
          },
          "metadata": {},
          "execution_count": 49
        }
      ]
    },
    {
      "cell_type": "markdown",
      "metadata": {
        "id": "kYdlr0YUxE27"
      },
      "source": [
        "### Grouping and Aggregation (Группировка и аггрегация)\n",
        "\n",
        "**The Map Function:** Для каждого кортежа $(a, b, c$) создайте пару $(a, b)$.\n",
        "\n",
        "**The Reduce Function:** Ключ представляет ту или иную группу. Примение аггрегирующую операцию $\\theta$ к списку значений $[b1, b2, . . . , bn]$ ассоциированных с ключом $a$. Возвращайте в выходной поток $(a, x)$, где $x$ результат применения  $\\theta$ к списку. Например, если $\\theta$ это $SUM$, тогда $x = b1 + b2 + · · · + bn$, а если $\\theta$ is $MAX$, тогда $x$ это максимальное из значений $b1, b2, . . . , bn$."
      ]
    },
    {
      "cell_type": "code",
      "metadata": {
        "id": "MLPckfEGxico",
        "colab": {
          "base_uri": "https://localhost:8080/"
        },
        "outputId": "e95f1f98-35d3-4212-f962-ed2d469f486e"
      },
      "source": [
        "class Home(NamedTuple):\n",
        "  id: int\n",
        "  home_type: str\n",
        "  price: int\n",
        "\n",
        "rental_collection = [\n",
        "    Home(id=1, home_type=\"Private room\", price=149),\n",
        "    Home(id=2, home_type=\"Entier home/apt\", price=225),\n",
        "    Home(id=3, home_type=\"Private room\", price=150),\n",
        "    Home(id=4, home_type=\"Entier home/apt\", price=89),\n",
        "    Home(id=5, home_type=\"Entier home/apt\", price=80),\n",
        "]\n",
        "\n",
        "# SELECT home_type, AVG(price) FROM rental_collection GROUP BY home_type\n",
        "\n",
        "def MAP(key, value):\n",
        "  yield (value.home_type, value.price)\n",
        "\n",
        "def REDUCE(key, rows):\n",
        "  yield (key, sum(rows) / len(rows))\n",
        "\n",
        "def RECORDREADER():\n",
        "  return [(index, u) for index, u in enumerate(rental_collection)]\n",
        "\n",
        "output = MapReduce(RECORDREADER, MAP, REDUCE)\n",
        "output = list(sorted(output))\n",
        "output"
      ],
      "execution_count": 50,
      "outputs": [
        {
          "output_type": "execute_result",
          "data": {
            "text/plain": [
              "[('Entier home/apt', 131.33333333333334), ('Private room', 149.5)]"
            ]
          },
          "metadata": {},
          "execution_count": 50
        }
      ]
    },
    {
      "cell_type": "markdown",
      "metadata": {
        "id": "IIrRgvG4RIS4"
      },
      "source": [
        "### Matrix-Vector multiplication\n",
        "\n",
        "Случай, когда вектор не помещается в памяти Map задачи\n",
        "\n",
        "http://infolab.stanford.edu/~ullman/mmds/book.pdf page 50\n"
      ]
    },
    {
      "cell_type": "code",
      "metadata": {
        "id": "KQhDbiL3zS9r",
        "colab": {
          "base_uri": "https://localhost:8080/"
        },
        "outputId": "3b7cac75-9edd-4994-b32c-4729ada74b55"
      },
      "source": [
        "ROWS = 5\n",
        "COLS = 4\n",
        "STRIPES = 2\n",
        "\n",
        "COLS_IN_STRIPE = COLS // STRIPES\n",
        "\n",
        "# Разделил матрицу на STRIPES частей, которые должны поместиться в памяти\n",
        "\n",
        "M = [np.ones((ROWS, COLS_IN_STRIPE)) for i in range(STRIPES)]\n",
        "\n",
        "# Разделил вектор на несколько частей, которые должны поместиться в памяти\n",
        "\n",
        "v = [np.random.rand(COLS_IN_STRIPE) for i in range(STRIPES)]\n",
        "\n",
        "# Ничего не меняется, кроме RECORDREADER\n",
        "\n",
        "def MAP(coordinates: Tuple[int, int], value: int):\n",
        "  i, j = coordinates\n",
        "  yield (i, value * vec[j])\n",
        "\n",
        "def REDUCE(i: int, products: Iterator[NamedTuple]):\n",
        "  print(i, products)\n",
        "  sum = 0\n",
        "  for p in products:\n",
        "    sum += p\n",
        "  yield (i, sum)\n",
        "\n",
        "def RECORDREADER():\n",
        "  global vec\n",
        "  for stripe_index, stripe in enumerate(M):\n",
        "    vec = v[stripe_index]\n",
        "    for i in range(stripe.shape[0]):\n",
        "      for j in range(stripe.shape[1]):\n",
        "        yield ((i, j), stripe[i, j])\n",
        "\n",
        "print(M)\n",
        "print(v)\n",
        "output = MapReduce(RECORDREADER, MAP, REDUCE)\n",
        "output = list(output)\n",
        "output"
      ],
      "execution_count": 51,
      "outputs": [
        {
          "output_type": "stream",
          "name": "stdout",
          "text": [
            "[array([[1., 1.],\n",
            "       [1., 1.],\n",
            "       [1., 1.],\n",
            "       [1., 1.],\n",
            "       [1., 1.]]), array([[1., 1.],\n",
            "       [1., 1.],\n",
            "       [1., 1.],\n",
            "       [1., 1.],\n",
            "       [1., 1.]])]\n",
            "[array([0.43525928, 0.81502949]), array([0.94678311, 0.07845687])]\n",
            "0 [0.4352592798104449, 0.8150294904385128, 0.9467831128452439, 0.0784568674841073]\n",
            "1 [0.4352592798104449, 0.8150294904385128, 0.9467831128452439, 0.0784568674841073]\n",
            "2 [0.4352592798104449, 0.8150294904385128, 0.9467831128452439, 0.0784568674841073]\n",
            "3 [0.4352592798104449, 0.8150294904385128, 0.9467831128452439, 0.0784568674841073]\n",
            "4 [0.4352592798104449, 0.8150294904385128, 0.9467831128452439, 0.0784568674841073]\n"
          ]
        },
        {
          "output_type": "execute_result",
          "data": {
            "text/plain": [
              "[(0, 2.275528750578309),\n",
              " (1, 2.275528750578309),\n",
              " (2, 2.275528750578309),\n",
              " (3, 2.275528750578309),\n",
              " (4, 2.275528750578309)]"
            ]
          },
          "metadata": {},
          "execution_count": 51
        }
      ]
    },
    {
      "cell_type": "markdown",
      "metadata": {
        "id": "GIo2t7nNxvA9"
      },
      "source": [
        "## Matrix multiplication (Перемножение матриц)\n",
        "\n",
        "Если у нас есть матрица $M$ с элементами $m_{ij}$ в строке $i$ и столбце $j$, и матрица $N$ с элементами $n_{jk}$ в строке $j$ и столбце $k$, тогда их произведение $P = MN$ есть матрица $P$ с элементами $p_{ik}$ в строке $i$ и столбце $k$, где\n",
        "\n",
        "$$p_{ik} =\\sum_{j} m_{ij}n_{jk}$$\n",
        "\n",
        "Необходимым требованием является одинаковое количество столбцов в $M$ и строк в $N$, чтобы операция суммирования по  $j$ была осмысленной. Мы можем размышлять о матрице, как об отношении с тремя атрибутами: номер строки, номер столбца, само значение. Таким образом матрица $M$ предстваляется как отношение $ M(I, J, V )$, с кортежами $(i, j, m_{ij})$, и, аналогично, матрица $N$ представляется как отношение $N(J, K, W)$, с кортежами $(j, k, n_{jk})$. Так как большие матрицы как правило разреженные (большинство значений равно 0), и так как мы можем нулевыми значениями пренебречь (не хранить), такое реляционное представление достаточно эффективно для больших матриц. Однако, возможно, что координаты $i$, $j$, и $k$ неявно закодированы в смещение позиции элемента относительно начала файла, вместо явного хранения. Тогда, функция Map (или Reader) должна быть разработана таким образом, чтобы реконструировать компоненты $I$, $J$, и $K$ кортежей из смещения.\n",
        "\n",
        "Произведение $MN$ это фактически join, за которым следуют группировка по ключу и аггрегация. Таким образом join отношений $M(I, J, V )$ и $N(J, K, W)$, имеющих общим только атрибут $J$, создаст кортежи $(i, j, k, v, w)$ из каждого кортежа $(i, j, v) \\in M$ и кортежа $(j, k, w) \\in N$. Такой 5 компонентный кортеж представляет пару элементов матрицы $(m_{ij} , n_{jk})$. Что нам хотелось бы получить на самом деле, это произведение этих элементов, то есть, 4 компонентный кортеж$(i, j, k, v \\times w)$, так как он представляет произведение $m_{ij}n_{jk}$. Мы представляем отношение как результат одной MapReduce операции, в которой мы можем произвести группировку и аггрегацию, с $I$ и $K$  атрибутами, по которым идёт группировка, и суммой  $V \\times W$.\n",
        "\n",
        "\n",
        "\n"
      ]
    },
    {
      "cell_type": "code",
      "metadata": {
        "id": "1MBkGaLAYVCt"
      },
      "source": [
        "# MapReduce model\n",
        "def flatten(nested_iterable):\n",
        "  for iterable in nested_iterable:\n",
        "    for element in iterable:\n",
        "      yield element\n",
        "\n",
        "def groupbykey(iterable):\n",
        "  t = {}\n",
        "  for (k2, v2) in iterable:\n",
        "    t[k2] = t.get(k2, []) + [v2]\n",
        "  return t.items()\n",
        "\n",
        "def MapReduce(RECORDREADER, MAP, REDUCE):\n",
        "  return flatten(map(lambda x: REDUCE(*x), groupbykey(flatten(map(lambda x: MAP(*x), RECORDREADER())))))"
      ],
      "execution_count": 52,
      "outputs": []
    },
    {
      "cell_type": "markdown",
      "metadata": {
        "id": "sMspsOT0ZB35"
      },
      "source": [
        "Реализуйте перемножение матриц с использованием модельного кода MapReduce для одной машины в случае, когда одна матрица хранится в памяти, а другая генерируется RECORDREADER-ом."
      ]
    },
    {
      "cell_type": "code",
      "metadata": {
        "id": "psP1XekbsEjS"
      },
      "source": [
        "I = 2\n",
        "J = 3\n",
        "K = 4 * 10\n",
        "small_mat = np.random.rand(I, J) # it is legal to access this from RECORDREADER, MAP, REDUCE\n",
        "big_mat = np.random.rand(J, K)\n",
        "\n",
        "def RECORDREADER():\n",
        "  for j in range(J):\n",
        "    for k in range(K):\n",
        "      yield ((j, k), big_mat[j, k])\n",
        "\n",
        "def MAP(k1, v1):\n",
        "  (j, k) = k1\n",
        "  w = v1\n",
        "  for i in range(I):\n",
        "    yield ((i, k), small_mat[i, j] * w)\n",
        "\n",
        "def REDUCE(key, values):\n",
        "  (i, k) = key\n",
        "  yield ((i, k), sum(values))"
      ],
      "execution_count": 53,
      "outputs": []
    },
    {
      "cell_type": "markdown",
      "metadata": {
        "id": "rnt306LHhHrm"
      },
      "source": [
        "Проверьте своё решение"
      ]
    },
    {
      "cell_type": "code",
      "metadata": {
        "id": "Ewy_ZNYqW5a2",
        "colab": {
          "base_uri": "https://localhost:8080/"
        },
        "outputId": "6ec46b44-00c1-4048-880c-2210ddd6f8b9"
      },
      "source": [
        "# CHECK THE SOLUTION\n",
        "reference_solution = np.matmul(small_mat, big_mat)\n",
        "solution = MapReduce(RECORDREADER, MAP, REDUCE)\n",
        "\n",
        "def asmatrix(reduce_output):\n",
        "  reduce_output = list(reduce_output)\n",
        "  I = max(i for ((i, k), vw) in reduce_output) + 1\n",
        "  K = max(k for ((i, k), vw) in reduce_output) + 1\n",
        "  mat = np.empty(shape=(I, K))\n",
        "  for ((i, k), vw) in reduce_output:\n",
        "    mat[i, k] = vw\n",
        "  return mat\n",
        "\n",
        "np.allclose(reference_solution, asmatrix(solution)) # should return true"
      ],
      "execution_count": 54,
      "outputs": [
        {
          "output_type": "execute_result",
          "data": {
            "text/plain": [
              "True"
            ]
          },
          "metadata": {},
          "execution_count": 54
        }
      ]
    },
    {
      "cell_type": "code",
      "metadata": {
        "id": "TK7v4CEcfxqf",
        "colab": {
          "base_uri": "https://localhost:8080/"
        },
        "outputId": "d1ae0bbe-32c4-42aa-9f82-9989b3adc8d1"
      },
      "source": [
        "reduce_output = list(MapReduce(RECORDREADER, MAP, REDUCE))\n",
        "max(i for ((i, k), vw) in reduce_output)"
      ],
      "execution_count": 55,
      "outputs": [
        {
          "output_type": "execute_result",
          "data": {
            "text/plain": [
              "1"
            ]
          },
          "metadata": {},
          "execution_count": 55
        }
      ]
    },
    {
      "cell_type": "markdown",
      "metadata": {
        "id": "i4yyg3kOZqJJ"
      },
      "source": [
        "Реализуйте перемножение матриц  с использованием модельного кода MapReduce для одной машины в случае, когда обе матрицы генерируются в RECORDREADER. Например, сначала одна, а потом другая."
      ]
    },
    {
      "cell_type": "markdown",
      "source": [
        "http://infolab.stanford.edu/~ullman/mmds/book.pdf page 55"
      ],
      "metadata": {
        "id": "om9KKrR30LIQ"
      }
    },
    {
      "cell_type": "code",
      "metadata": {
        "id": "3B7rIAJCaHZq",
        "colab": {
          "base_uri": "https://localhost:8080/"
        },
        "outputId": "84feafe3-e4a4-4ea2-daf0-197d120ef880"
      },
      "source": [
        "I = 2\n",
        "J = 3\n",
        "K = 4 * 10\n",
        "small_mat = np.random.rand(I, J)\n",
        "big_mat = np.random.rand(J, K)\n",
        "\n",
        "def RECORDREADER():\n",
        "  for i in range(I):\n",
        "    for j in range(J):\n",
        "      yield ((0, i, j), small_mat[i, j])\n",
        "\n",
        "  for j in range(J):\n",
        "    for k in range(K):\n",
        "      yield ((1, j, k), big_mat[j, k])\n",
        "\n",
        "def MAP(k1, v1):\n",
        "  (matrix_index, row_index, col_index) = k1\n",
        "  if matrix_index == 0:\n",
        "    yield (col_index, (matrix_index, row_index, v1))\n",
        "  else:\n",
        "    yield (row_index, (matrix_index, col_index, v1))\n",
        "\n",
        "\n",
        "def REDUCE(key, values):\n",
        "  first_matrix = [el for el in values if el[0] == 0]\n",
        "  second_matrix = [el for el in values if el[0] == 1]\n",
        "\n",
        "  for first_el in first_matrix:\n",
        "    for second_el in second_matrix:\n",
        "      (_, first_index, first_value) = first_el\n",
        "      (_, second_index, second_value) = second_el\n",
        "      yield ((first_index, second_index), first_value * second_value)\n",
        "\n",
        "\n",
        "def MAP_IDENTITY(*args):\n",
        "  yield args\n",
        "\n",
        "def REDUCE_AGREGATE(key, values):\n",
        "  yield (key, sum(values))\n",
        "\n",
        "def GET_RECORDREADER(iterable):\n",
        "  def func():\n",
        "    for el in iterable:\n",
        "      yield el\n",
        "  return func\n",
        "\n",
        "\n",
        "reference_solution = np.matmul(small_mat, big_mat)\n",
        "partial_solution = MapReduce(RECORDREADER, MAP, REDUCE)\n",
        "solution = MapReduce(GET_RECORDREADER(partial_solution), MAP_IDENTITY, REDUCE_AGREGATE)\n",
        "\n",
        "def asmatrix(reduce_output):\n",
        "  reduce_output = list(reduce_output)\n",
        "  I = max(i for ((i, k), vw) in reduce_output) + 1\n",
        "  K = max(k for ((i, k), vw) in reduce_output) + 1\n",
        "  mat = np.empty(shape=(I, K))\n",
        "  for ((i, k), vw) in reduce_output:\n",
        "    mat[i, k] = vw\n",
        "  return mat\n",
        "\n",
        "np.allclose(reference_solution, asmatrix(solution)) # should return true"
      ],
      "execution_count": 95,
      "outputs": [
        {
          "output_type": "execute_result",
          "data": {
            "text/plain": [
              "True"
            ]
          },
          "metadata": {},
          "execution_count": 95
        }
      ]
    },
    {
      "cell_type": "markdown",
      "metadata": {
        "id": "mXyzQi1DaIwo"
      },
      "source": [
        "Реализуйте перемножение матриц с использованием модельного кода MapReduce Distributed, когда каждая матрица генерируется в своём RECORDREADER."
      ]
    },
    {
      "cell_type": "code",
      "metadata": {
        "id": "TDM_s78Rb5eR",
        "colab": {
          "base_uri": "https://localhost:8080/"
        },
        "outputId": "0e8d080c-a231-4722-d09a-af8683d4f0be"
      },
      "source": [
        "I = 2\n",
        "J = 3\n",
        "K = 4 * 10\n",
        "small_mat = np.random.rand(I, J)\n",
        "big_mat = np.random.rand(J, K)\n",
        "\n",
        "maps = 2\n",
        "reducers = 2\n",
        "\n",
        "def INPUTFORMAT():\n",
        "  def RECORDREADER(index, matrix):\n",
        "    rows, cols = matrix.shape\n",
        "    for i in range(rows):\n",
        "      for j in range(cols):\n",
        "        yield ((index, i, j), matrix[i, j])\n",
        "\n",
        "  yield RECORDREADER(0, small_mat)\n",
        "  yield RECORDREADER(1, big_mat)\n",
        "\n",
        "def MAP(k1, v1):\n",
        "  (matrix_index, row_index, col_index) = k1\n",
        "\n",
        "  if matrix_index == 0:\n",
        "    yield (col_index, (matrix_index, row_index, v1))\n",
        "  else:\n",
        "    yield (row_index, (matrix_index, col_index, v1))\n",
        "\n",
        "def REDUCE(key, values):\n",
        "  first_matrix = [el for el in values if el[0] == 0]\n",
        "  second_matrix = [el for el in values if el[0] == 1]\n",
        "\n",
        "  for first_el in first_matrix:\n",
        "    for second_el in second_matrix:\n",
        "      (_, first_index, first_value) = first_el\n",
        "      (_, second_index, second_value) = second_el\n",
        "      yield ((first_index, second_index), first_value * second_value)\n",
        "\n",
        "def MAP_IDENTITY(*args):\n",
        "  yield args\n",
        "\n",
        "def REDUCE_AGREGATE(key, values):\n",
        "  yield (key, sum(values))\n",
        "\n",
        "def GET_INPUTFORMAT(iterable):\n",
        "  def func():\n",
        "    for el in iterable:\n",
        "      yield el[1]\n",
        "  return func\n",
        "\n",
        "reference_solution = np.matmul(small_mat, big_mat)\n",
        "\n",
        "partitioned_output = MapReduceDistributed(INPUTFORMAT, MAP, REDUCE, COMBINER=None)\n",
        "partitioned_output = [(partition_id, list(partition)) for (partition_id, partition) in partitioned_output]\n",
        "\n",
        "solution = MapReduceDistributed(GET_INPUTFORMAT(partitioned_output), MAP_IDENTITY, REDUCE_AGREGATE, COMBINER=None)\n",
        "solution = [(partition_id, list(partition)) for (partition_id, partition) in solution]\n",
        "\n",
        "solution_unpacked = []\n",
        "for value in solution:\n",
        "  for v in value[1]:\n",
        "    solution_unpacked.append(v)\n",
        "\n",
        "def asmatrix(reduce_output):\n",
        "  reduce_output = list(reduce_output)\n",
        "  I = max(i for ((i, k), vw) in reduce_output) + 1\n",
        "  K = max(k for ((i, k), vw) in reduce_output) + 1\n",
        "  mat = np.empty(shape=(I, K))\n",
        "  for ((i, k), vw) in reduce_output:\n",
        "    mat[i, k] = vw\n",
        "  return mat\n",
        "\n",
        "np.allclose(reference_solution, asmatrix(solution_unpacked)) # should return true"
      ],
      "execution_count": 94,
      "outputs": [
        {
          "output_type": "stream",
          "name": "stdout",
          "text": [
            "126 key-value pairs were sent over a network.\n",
            "240 key-value pairs were sent over a network.\n"
          ]
        },
        {
          "output_type": "execute_result",
          "data": {
            "text/plain": [
              "True"
            ]
          },
          "metadata": {},
          "execution_count": 94
        }
      ]
    },
    {
      "cell_type": "markdown",
      "metadata": {
        "id": "ZuSA2P9Db6UM"
      },
      "source": [
        "Обобщите предыдущее решение на случай, когда каждая матрица генерируется несколькими RECORDREADER-ами, и проверьте его работоспособность. Будет ли работать решение, если RECORDREADER-ы будут генерировать случайное подмножество элементов матрицы?"
      ]
    },
    {
      "cell_type": "code",
      "metadata": {
        "id": "ehN0FqRDcwU5",
        "colab": {
          "base_uri": "https://localhost:8080/"
        },
        "outputId": "1ae73693-0acb-48c1-fd63-62b1bcda1149"
      },
      "source": [
        "I = 2\n",
        "J = 3\n",
        "K = 4\n",
        "small_mat = np.random.rand(I, J)\n",
        "big_mat = np.random.rand(J, K)\n",
        "\n",
        "maps = 2\n",
        "reducers = 2\n",
        "\n",
        "def INPUTFORMAT():\n",
        "  def RECORDREADER(index, matrix, shift):\n",
        "    rows, cols = matrix.shape\n",
        "    for i in range(rows):\n",
        "      for j in range(cols):\n",
        "        yield ((index, i + shift, j), matrix[i, j])\n",
        "\n",
        "  split_size = int(np.ceil(len(small_mat) / maps))\n",
        "\n",
        "  for i in range(0, len(small_mat), split_size):\n",
        "    yield RECORDREADER(0, small_mat[i:i + split_size], i)\n",
        "\n",
        "  split_size = int(np.ceil(len(big_mat) / maps))\n",
        "\n",
        "  for i in range(0, len(big_mat), split_size):\n",
        "    yield RECORDREADER(1, big_mat[i:i + split_size], i)\n",
        "\n",
        "def MAP(k1, v1):\n",
        "  (matrix_index, row_index, col_index) = k1\n",
        "\n",
        "  if matrix_index == 0:\n",
        "    yield (col_index, (matrix_index, row_index, v1))\n",
        "  else:\n",
        "    yield (row_index, (matrix_index, col_index, v1))\n",
        "\n",
        "def REDUCE(key, values):\n",
        "  first_matrix = [el for el in values if el[0] == 0]\n",
        "  second_matrix = [el for el in values if el[0] == 1]\n",
        "\n",
        "  for first_el in first_matrix:\n",
        "    for second_el in second_matrix:\n",
        "      (_, first_index, first_value) = first_el\n",
        "      (_, second_index, second_value) = second_el\n",
        "      yield ((first_index, second_index), first_value * second_value)\n",
        "\n",
        "def MAP_IDENTITY(*args):\n",
        "  yield args\n",
        "\n",
        "def REDUCE_AGREGATE(key, values):\n",
        "  yield (key, sum(values))\n",
        "\n",
        "def GET_INPUTFORMAT(iterable):\n",
        "  def func():\n",
        "    for el in iterable:\n",
        "      yield el[1]\n",
        "  return func\n",
        "\n",
        "reference_solution = np.matmul(small_mat, big_mat)\n",
        "\n",
        "partitioned_output = MapReduceDistributed(INPUTFORMAT, MAP, REDUCE, COMBINER=None)\n",
        "partitioned_output = [(partition_id, list(partition)) for (partition_id, partition) in partitioned_output]\n",
        "\n",
        "solution = MapReduceDistributed(GET_INPUTFORMAT(partitioned_output), MAP_IDENTITY, REDUCE_AGREGATE, COMBINER=None)\n",
        "solution = [(partition_id, list(partition)) for (partition_id, partition) in solution]\n",
        "\n",
        "solution_unpacked = []\n",
        "for value in solution:\n",
        "  for v in value[1]:\n",
        "    solution_unpacked.append(v)\n",
        "\n",
        "def asmatrix(reduce_output):\n",
        "  reduce_output = list(reduce_output)\n",
        "  I = max(i for ((i, k), vw) in reduce_output) + 1\n",
        "  K = max(k for ((i, k), vw) in reduce_output) + 1\n",
        "  mat = np.empty(shape=(I, K))\n",
        "  for ((i, k), vw) in reduce_output:\n",
        "    mat[i, k] = vw\n",
        "  return mat\n",
        "\n",
        "np.allclose(reference_solution, asmatrix(solution_unpacked)) # should return true"
      ],
      "execution_count": 93,
      "outputs": [
        {
          "output_type": "stream",
          "name": "stdout",
          "text": [
            "18 key-value pairs were sent over a network.\n",
            "24 key-value pairs were sent over a network.\n"
          ]
        },
        {
          "output_type": "execute_result",
          "data": {
            "text/plain": [
              "True"
            ]
          },
          "metadata": {},
          "execution_count": 93
        }
      ]
    }
  ]
}